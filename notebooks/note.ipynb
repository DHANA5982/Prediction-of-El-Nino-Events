{
 "cells": [
  {
   "cell_type": "markdown",
   "id": "e895a77f",
   "metadata": {},
   "source": [
    "# Prediction of El-Nino Events"
   ]
  },
  {
   "cell_type": "code",
   "execution_count": 1,
   "id": "5bea8374",
   "metadata": {},
   "outputs": [],
   "source": [
    "import numpy as np\n",
    "import pandas as pd\n",
    "import matplotlib.pyplot as plt\n",
    "import seaborn as sns\n",
    "import os"
   ]
  },
  {
   "cell_type": "code",
   "execution_count": 2,
   "id": "c80580b8",
   "metadata": {},
   "outputs": [
    {
     "name": "stdout",
     "output_type": "stream",
     "text": [
      "(178080, 12)\n"
     ]
    }
   ],
   "source": [
    "df = pd.read_csv('./data/raw/elnino.csv')\n",
    "print(df.shape)"
   ]
  },
  {
   "cell_type": "code",
   "execution_count": 3,
   "id": "65e30972",
   "metadata": {},
   "outputs": [
    {
     "name": "stdout",
     "output_type": "stream",
     "text": [
      "   Observation   Year   Month   Day    Date   Latitude   Longitude  \\\n",
      "0            1     80       3     7  800307      -0.02     -109.46   \n",
      "1            2     80       3     8  800308      -0.02     -109.46   \n",
      "2            3     80       3     9  800309      -0.02     -109.46   \n",
      "3            4     80       3    10  800310      -0.02     -109.46   \n",
      "4            5     80       3    11  800311      -0.02     -109.46   \n",
      "\n",
      "   Zonal Winds  Meridional Winds  Humidity  Air Temp  Sea Surface Temp  \n",
      "0         -6.8               0.7         .     26.14             26.24  \n",
      "1         -4.9               1.1         .     25.66             25.97  \n",
      "2         -4.5               2.2         .     25.69             25.28  \n",
      "3         -3.8               1.9         .     25.57             24.31  \n",
      "4         -4.2               1.5         .      25.3             23.19  \n"
     ]
    }
   ],
   "source": [
    "print(df.head())"
   ]
  },
  {
   "cell_type": "code",
   "execution_count": 4,
   "id": "da16eb5b",
   "metadata": {},
   "outputs": [
    {
     "name": "stdout",
     "output_type": "stream",
     "text": [
      "         Observation           Year          Month            Day  \\\n",
      "count  178080.000000  178080.000000  178080.000000  178080.000000   \n",
      "mean    89040.500000      93.302325       6.504869      15.720536   \n",
      "std     51407.412306       3.393818       3.459657       8.800487   \n",
      "min         1.000000      80.000000       1.000000       1.000000   \n",
      "25%     44520.750000      92.000000       4.000000       8.000000   \n",
      "50%     89040.500000      94.000000       6.000000      16.000000   \n",
      "75%    133560.250000      96.000000      10.000000      23.000000   \n",
      "max    178080.000000      98.000000      12.000000      31.000000   \n",
      "\n",
      "                Date       Latitude      Longitude  \n",
      "count  178080.000000  178080.000000  178080.000000  \n",
      "mean   933689.455374       0.473626     -54.025233  \n",
      "std     33900.474320       4.583041     135.363994  \n",
      "min    800307.000000      -8.810000    -180.000000  \n",
      "25%    920116.000000      -2.010000    -154.950000  \n",
      "50%    940601.000000       0.010000    -111.260000  \n",
      "75%    960617.000000       4.980000     147.010000  \n",
      "max    980623.000000       9.050000     171.080000  \n"
     ]
    }
   ],
   "source": [
    "print(df.describe())"
   ]
  },
  {
   "cell_type": "code",
   "execution_count": 5,
   "id": "733b259b",
   "metadata": {},
   "outputs": [
    {
     "name": "stdout",
     "output_type": "stream",
     "text": [
      "<class 'pandas.core.frame.DataFrame'>\n",
      "RangeIndex: 178080 entries, 0 to 178079\n",
      "Data columns (total 12 columns):\n",
      " #   Column             Non-Null Count   Dtype  \n",
      "---  ------             --------------   -----  \n",
      " 0   Observation        178080 non-null  int64  \n",
      " 1    Year              178080 non-null  int64  \n",
      " 2    Month             178080 non-null  int64  \n",
      " 3    Day               178080 non-null  int64  \n",
      " 4    Date              178080 non-null  int64  \n",
      " 5    Latitude          178080 non-null  float64\n",
      " 6    Longitude         178080 non-null  float64\n",
      " 7    Zonal Winds       178080 non-null  object \n",
      " 8    Meridional Winds  178080 non-null  object \n",
      " 9    Humidity          178080 non-null  object \n",
      " 10   Air Temp          178080 non-null  object \n",
      " 11   Sea Surface Temp  178080 non-null  object \n",
      "dtypes: float64(2), int64(5), object(5)\n",
      "memory usage: 16.3+ MB\n"
     ]
    }
   ],
   "source": [
    "df.info()"
   ]
  },
  {
   "cell_type": "code",
   "execution_count": 6,
   "id": "288ae074",
   "metadata": {},
   "outputs": [
    {
     "name": "stdout",
     "output_type": "stream",
     "text": [
      "Observation          0\n",
      " Year                0\n",
      " Month               0\n",
      " Day                 0\n",
      " Date                0\n",
      " Latitude            0\n",
      " Longitude           0\n",
      " Zonal Winds         0\n",
      " Meridional Winds    0\n",
      " Humidity            0\n",
      " Air Temp            0\n",
      " Sea Surface Temp    0\n",
      "dtype: int64\n"
     ]
    }
   ],
   "source": [
    "print(df.isnull().sum())"
   ]
  },
  {
   "cell_type": "code",
   "execution_count": 7,
   "id": "43c2f846",
   "metadata": {},
   "outputs": [
    {
     "name": "stdout",
     "output_type": "stream",
     "text": [
      "Index(['Observation', ' Year', ' Month', ' Day', ' Date', ' Latitude',\n",
      "       ' Longitude', ' Zonal Winds', ' Meridional Winds', ' Humidity',\n",
      "       ' Air Temp', ' Sea Surface Temp'],\n",
      "      dtype='object')\n"
     ]
    }
   ],
   "source": [
    "print(df.columns)"
   ]
  },
  {
   "cell_type": "code",
   "execution_count": 8,
   "id": "57ffe202",
   "metadata": {},
   "outputs": [
    {
     "name": "stdout",
     "output_type": "stream",
     "text": [
      " Zonal Winds: Value: . ; counts: 25163\n",
      " Meridional Winds: Value: . ; counts: 25162\n",
      " Humidity: Value: . ; counts: 65761\n",
      " Air Temp: Value: . ; counts: 18237\n",
      " Sea Surface Temp: Value: . ; counts: 17007\n"
     ]
    }
   ],
   "source": [
    "cols = [' Zonal Winds', ' Meridional Winds', ' Humidity', ' Air Temp', ' Sea Surface Temp']\n",
    "for col in cols:\n",
    "    print(f'{col}: Value: {df[col].value_counts().index[0]} ; counts: {df[col].value_counts().iloc[0]}')"
   ]
  },
  {
   "cell_type": "code",
   "execution_count": 9,
   "id": "af197512",
   "metadata": {},
   "outputs": [],
   "source": [
    "df.columns = df.columns.str.strip()"
   ]
  },
  {
   "cell_type": "code",
   "execution_count": 10,
   "id": "6026d152",
   "metadata": {},
   "outputs": [],
   "source": [
    "df.replace('.', np.nan, inplace=True)"
   ]
  },
  {
   "cell_type": "code",
   "execution_count": 11,
   "id": "c5db7ccd",
   "metadata": {},
   "outputs": [],
   "source": [
    "cols = [col.strip() for col in cols]\n",
    "for col in cols:\n",
    "    df[col] = pd.to_numeric(df[col], errors='coerce')"
   ]
  },
  {
   "cell_type": "code",
   "execution_count": 12,
   "id": "b714df51",
   "metadata": {},
   "outputs": [
    {
     "name": "stdout",
     "output_type": "stream",
     "text": [
      "Observation             0\n",
      "Year                    0\n",
      "Month                   0\n",
      "Day                     0\n",
      "Date                    0\n",
      "Latitude                0\n",
      "Longitude               0\n",
      "Zonal Winds         25163\n",
      "Meridional Winds    25162\n",
      "Humidity            65761\n",
      "Air Temp            18237\n",
      "Sea Surface Temp    17007\n",
      "dtype: int64\n"
     ]
    }
   ],
   "source": [
    "print(df.isnull().sum())"
   ]
  },
  {
   "cell_type": "code",
   "execution_count": 13,
   "id": "d6cadacd",
   "metadata": {},
   "outputs": [
    {
     "name": "stdout",
     "output_type": "stream",
     "text": [
      "178075    1998\n",
      "178076    1998\n",
      "178077    1998\n",
      "178078    1998\n",
      "178079    1998\n",
      "Name: Year, dtype: int64\n"
     ]
    }
   ],
   "source": [
    "df['Year'] = df['Year'].apply(lambda x: int(f'19{x:02d}'))\n",
    "print(df.Year.tail())"
   ]
  },
  {
   "cell_type": "code",
   "execution_count": 14,
   "id": "3597eadd",
   "metadata": {},
   "outputs": [],
   "source": [
    "df['Date'] = pd.to_datetime(df[['Year', 'Month', 'Day']], format=\"%Y%m%d\")"
   ]
  },
  {
   "cell_type": "code",
   "execution_count": 15,
   "id": "37af4bfa",
   "metadata": {},
   "outputs": [],
   "source": [
    "df.set_index('Date', inplace=True)"
   ]
  },
  {
   "cell_type": "code",
   "execution_count": 16,
   "id": "af286d0d",
   "metadata": {},
   "outputs": [],
   "source": [
    "df.drop(['Observation', 'Year', 'Month', 'Day', 'Zonal Winds',\n",
    " 'Meridional Winds', 'Humidity', 'Air Temp'], axis=1, inplace=True)"
   ]
  },
  {
   "cell_type": "code",
   "execution_count": 17,
   "id": "0a36fa00",
   "metadata": {},
   "outputs": [
    {
     "name": "stdout",
     "output_type": "stream",
     "text": [
      "            Latitude  Longitude  Sea Surface Temp\n",
      "Date                                             \n",
      "1980-03-07     -0.02    -109.46             26.24\n",
      "1980-03-08     -0.02    -109.46             25.97\n",
      "1980-03-09     -0.02    -109.46             25.28\n",
      "1980-03-10     -0.02    -109.46             24.31\n",
      "1980-03-11     -0.02    -109.46             23.19\n"
     ]
    }
   ],
   "source": [
    "print(df.head())"
   ]
  },
  {
   "cell_type": "code",
   "execution_count": 18,
   "id": "4e425636",
   "metadata": {},
   "outputs": [
    {
     "name": "stdout",
     "output_type": "stream",
     "text": [
      "<class 'pandas.core.frame.DataFrame'>\n",
      "DatetimeIndex: 178080 entries, 1980-03-07 to 1998-06-15\n",
      "Data columns (total 3 columns):\n",
      " #   Column            Non-Null Count   Dtype  \n",
      "---  ------            --------------   -----  \n",
      " 0   Latitude          178080 non-null  float64\n",
      " 1   Longitude         178080 non-null  float64\n",
      " 2   Sea Surface Temp  161073 non-null  float64\n",
      "dtypes: float64(3)\n",
      "memory usage: 5.4 MB\n",
      "None\n"
     ]
    }
   ],
   "source": [
    "print(df.info())"
   ]
  },
  {
   "cell_type": "code",
   "execution_count": 19,
   "id": "505427de",
   "metadata": {},
   "outputs": [
    {
     "name": "stdout",
     "output_type": "stream",
     "text": [
      "count    178080.000000\n",
      "min          -8.810000\n",
      "mean          0.473626\n",
      "max           9.050000\n",
      "Name: Latitude, dtype: float64\n",
      "count    178080.000000\n",
      "min        -180.000000\n",
      "mean        -54.025233\n",
      "max         171.080000\n",
      "Name: Longitude, dtype: float64\n"
     ]
    }
   ],
   "source": [
    "print(df['Latitude'].agg(['count', 'min', 'mean','max']))\n",
    "print(df['Longitude'].agg(['count', 'min', 'mean','max']))"
   ]
  },
  {
   "cell_type": "code",
   "execution_count": 20,
   "id": "7a776dd4",
   "metadata": {},
   "outputs": [],
   "source": [
    "# Filter Niño 3 and 3.4 region\n",
    "df_nino34 = df[\n",
    "    (df['Latitude'] >= -5) & (df['Latitude'] <= 5) &\n",
    "    (df['Longitude'] >= -170) & (df['Longitude'] <= -120)\n",
    "]\n",
    "\n",
    "df_nino3 = df[\n",
    "    (df['Latitude'] >= -5) & (df['Latitude'] <= 5) &\n",
    "    (df['Longitude'] >= -150) & (df['Longitude'] <= -90)\n",
    "]"
   ]
  },
  {
   "cell_type": "code",
   "execution_count": 21,
   "id": "cfd63293",
   "metadata": {},
   "outputs": [],
   "source": [
    "# Group and aggregate\n",
    "df_nino34 = df_nino34.groupby(df_nino34.index)['Sea Surface Temp'].mean().to_frame(name='nino34')\n",
    "df_nino3 = df_nino3.groupby(df_nino3.index)['Sea Surface Temp'].mean().to_frame(name='nino3')"
   ]
  },
  {
   "cell_type": "code",
   "execution_count": 22,
   "id": "7545b3b1",
   "metadata": {},
   "outputs": [],
   "source": [
    "# 3. Sort by datetime and handle missing\n",
    "df_nino34 = df_nino34.sort_index().interpolate().ffill().bfill()\n",
    "df_nino3 = df_nino3.sort_index().interpolate().ffill().bfill()"
   ]
  },
  {
   "cell_type": "code",
   "execution_count": 23,
   "id": "44b4df9f",
   "metadata": {},
   "outputs": [
    {
     "name": "stdout",
     "output_type": "stream",
     "text": [
      "5369 6368\n"
     ]
    }
   ],
   "source": [
    "print(len(df_nino34), len(df_nino3))"
   ]
  },
  {
   "cell_type": "code",
   "execution_count": 71,
   "id": "600122c7",
   "metadata": {},
   "outputs": [],
   "source": [
    "df_nino = pd.merge(df_nino3, df_nino34, how='outer', left_index=True, right_index=True)"
   ]
  },
  {
   "cell_type": "code",
   "execution_count": 56,
   "id": "01d56e38",
   "metadata": {},
   "outputs": [],
   "source": [
    "df_nino['nino3'] = df_nino['nino3'].ffill()\n",
    "df_nino['nino34'] = df_nino['nino34'].ffill().bfill()"
   ]
  },
  {
   "cell_type": "code",
   "execution_count": 73,
   "id": "443412eb",
   "metadata": {},
   "outputs": [],
   "source": [
    "df_nino = round(df_nino, 2)"
   ]
  },
  {
   "cell_type": "code",
   "execution_count": 74,
   "id": "293b8401",
   "metadata": {},
   "outputs": [
    {
     "data": {
      "text/html": [
       "<div>\n",
       "<style scoped>\n",
       "    .dataframe tbody tr th:only-of-type {\n",
       "        vertical-align: middle;\n",
       "    }\n",
       "\n",
       "    .dataframe tbody tr th {\n",
       "        vertical-align: top;\n",
       "    }\n",
       "\n",
       "    .dataframe thead th {\n",
       "        text-align: right;\n",
       "    }\n",
       "</style>\n",
       "<table border=\"1\" class=\"dataframe\">\n",
       "  <thead>\n",
       "    <tr style=\"text-align: right;\">\n",
       "      <th></th>\n",
       "      <th>nino3</th>\n",
       "      <th>nino34</th>\n",
       "    </tr>\n",
       "    <tr>\n",
       "      <th>Date</th>\n",
       "      <th></th>\n",
       "      <th></th>\n",
       "    </tr>\n",
       "  </thead>\n",
       "  <tbody>\n",
       "    <tr>\n",
       "      <th>1980-03-07</th>\n",
       "      <td>26.24</td>\n",
       "      <td>NaN</td>\n",
       "    </tr>\n",
       "    <tr>\n",
       "      <th>1980-03-08</th>\n",
       "      <td>25.97</td>\n",
       "      <td>NaN</td>\n",
       "    </tr>\n",
       "    <tr>\n",
       "      <th>1980-03-09</th>\n",
       "      <td>25.28</td>\n",
       "      <td>NaN</td>\n",
       "    </tr>\n",
       "    <tr>\n",
       "      <th>1980-03-10</th>\n",
       "      <td>24.31</td>\n",
       "      <td>NaN</td>\n",
       "    </tr>\n",
       "    <tr>\n",
       "      <th>1980-03-11</th>\n",
       "      <td>23.19</td>\n",
       "      <td>NaN</td>\n",
       "    </tr>\n",
       "    <tr>\n",
       "      <th>...</th>\n",
       "      <td>...</td>\n",
       "      <td>...</td>\n",
       "    </tr>\n",
       "    <tr>\n",
       "      <th>1998-06-18</th>\n",
       "      <td>25.93</td>\n",
       "      <td>27.18</td>\n",
       "    </tr>\n",
       "    <tr>\n",
       "      <th>1998-06-19</th>\n",
       "      <td>25.91</td>\n",
       "      <td>27.11</td>\n",
       "    </tr>\n",
       "    <tr>\n",
       "      <th>1998-06-20</th>\n",
       "      <td>27.40</td>\n",
       "      <td>28.43</td>\n",
       "    </tr>\n",
       "    <tr>\n",
       "      <th>1998-06-21</th>\n",
       "      <td>NaN</td>\n",
       "      <td>28.51</td>\n",
       "    </tr>\n",
       "    <tr>\n",
       "      <th>1998-06-22</th>\n",
       "      <td>NaN</td>\n",
       "      <td>29.48</td>\n",
       "    </tr>\n",
       "  </tbody>\n",
       "</table>\n",
       "<p>6370 rows × 2 columns</p>\n",
       "</div>"
      ],
      "text/plain": [
       "            nino3  nino34\n",
       "Date                     \n",
       "1980-03-07  26.24     NaN\n",
       "1980-03-08  25.97     NaN\n",
       "1980-03-09  25.28     NaN\n",
       "1980-03-10  24.31     NaN\n",
       "1980-03-11  23.19     NaN\n",
       "...           ...     ...\n",
       "1998-06-18  25.93   27.18\n",
       "1998-06-19  25.91   27.11\n",
       "1998-06-20  27.40   28.43\n",
       "1998-06-21    NaN   28.51\n",
       "1998-06-22    NaN   29.48\n",
       "\n",
       "[6370 rows x 2 columns]"
      ]
     },
     "execution_count": 74,
     "metadata": {},
     "output_type": "execute_result"
    }
   ],
   "source": [
    "df_nino"
   ]
  },
  {
   "cell_type": "code",
   "execution_count": 75,
   "id": "5a3c76f8",
   "metadata": {},
   "outputs": [
    {
     "name": "stdout",
     "output_type": "stream",
     "text": [
      "nino3        2\n",
      "nino34    1001\n",
      "dtype: int64\n"
     ]
    }
   ],
   "source": [
    "print(df_nino.isnull().sum())"
   ]
  },
  {
   "cell_type": "code",
   "execution_count": 76,
   "id": "bd8be6a6",
   "metadata": {},
   "outputs": [],
   "source": [
    "# df_nino['nino_3_lag_1'] = t_df['nino3'].shift(1)\n",
    "# df_nino['nino_3_lag_7'] = t_df['nino3'].shift(7)\n",
    "# df_nino['nino_3_lag_30'] = t_df['nino3'].shift(30)"
   ]
  },
  {
   "cell_type": "code",
   "execution_count": 84,
   "id": "0f200316",
   "metadata": {},
   "outputs": [],
   "source": [
    "df_nino['nino34_lag_1'] = df_nino['nino34'].shift(1)\n",
    "df_nino['nino34_lag_7'] = df_nino['nino34'].shift(7)\n",
    "df_nino['nino34_lag_30'] = df_nino['nino34'].shift(30)"
   ]
  },
  {
   "cell_type": "code",
   "execution_count": 85,
   "id": "090ae668",
   "metadata": {},
   "outputs": [],
   "source": [
    "# 7-day, 30-day rolling stats\n",
    "df_nino['nino34_roll_mean_7'] = df_nino['nino34'].rolling(window=7).mean()\n",
    "df_nino['nino34_roll_std_7'] = df_nino['nino34'].rolling(window=7).std()\n",
    "\n",
    "df_nino['nino34_roll_mean_30'] = df_nino['nino34'].rolling(window=30).mean()\n",
    "df_nino['nino34_roll_std_30'] = df_nino['nino34'].rolling(window=30).std()"
   ]
  },
  {
   "cell_type": "code",
   "execution_count": 86,
   "id": "2d07e8ee",
   "metadata": {},
   "outputs": [],
   "source": [
    "# Change in SST compared to previous day\n",
    "df_nino['nino34_diff_1'] = df_nino['nino34'].diff(1)\n",
    "df_nino['nino34_diff_7'] = df_nino['nino34'].diff(7)"
   ]
  },
  {
   "cell_type": "code",
   "execution_count": 87,
   "id": "8712dec8",
   "metadata": {},
   "outputs": [],
   "source": [
    "# Extract temporal components\n",
    "df_nino['month'] = df_nino.index.month\n",
    "df_nino['day_of_week'] = df_nino.index.dayofweek\n",
    "df_nino['is_weekend'] = df_nino.index.dayofweek >= 5"
   ]
  },
  {
   "cell_type": "code",
   "execution_count": 88,
   "id": "e29ff220",
   "metadata": {},
   "outputs": [],
   "source": [
    "def get_season(month):\n",
    "    if month in [12, 1, 2]:\n",
    "        return 'winter'\n",
    "    elif month in [3, 4, 5]:\n",
    "        return 'spring'\n",
    "    elif month in [6, 7, 8]:\n",
    "        return 'summer'\n",
    "    else:\n",
    "        return 'fall'\n",
    "\n",
    "df_nino['season'] = df_nino['month'].apply(get_season)"
   ]
  },
  {
   "cell_type": "code",
   "execution_count": 89,
   "id": "d40ec9a7",
   "metadata": {},
   "outputs": [],
   "source": [
    "# Placeholder logic: anomaly if nino 3.4 SST deviation from long-term mean > threshold\n",
    "long_term_mean = df_nino['nino34'].mean()\n",
    "long_term_std = df_nino['nino34'].std()\n",
    "\n",
    "df_nino['nino34_anomaly'] = df_nino['nino34'] - long_term_mean\n",
    "df_nino['is_elnino'] = (df_nino['nino34_anomaly'] > (1.5 * long_term_std)).astype(int)"
   ]
  },
  {
   "cell_type": "code",
   "execution_count": 103,
   "id": "99d61df8",
   "metadata": {},
   "outputs": [
    {
     "data": {
      "text/html": [
       "<div>\n",
       "<style scoped>\n",
       "    .dataframe tbody tr th:only-of-type {\n",
       "        vertical-align: middle;\n",
       "    }\n",
       "\n",
       "    .dataframe tbody tr th {\n",
       "        vertical-align: top;\n",
       "    }\n",
       "\n",
       "    .dataframe thead th {\n",
       "        text-align: right;\n",
       "    }\n",
       "</style>\n",
       "<table border=\"1\" class=\"dataframe\">\n",
       "  <thead>\n",
       "    <tr style=\"text-align: right;\">\n",
       "      <th></th>\n",
       "      <th>nino3</th>\n",
       "      <th>nino34</th>\n",
       "      <th>nino34_lag_1</th>\n",
       "      <th>nino34_lag_7</th>\n",
       "      <th>nino34_lag_30</th>\n",
       "      <th>nino34_roll_mean_7</th>\n",
       "      <th>nino34_roll_std_7</th>\n",
       "      <th>nino34_roll_mean_30</th>\n",
       "      <th>nino34_roll_std_30</th>\n",
       "      <th>nino34_diff_1</th>\n",
       "      <th>nino34_diff_7</th>\n",
       "      <th>month</th>\n",
       "      <th>day_of_week</th>\n",
       "      <th>is_weekend</th>\n",
       "      <th>season</th>\n",
       "      <th>nino34_anomaly</th>\n",
       "      <th>is_elnino</th>\n",
       "    </tr>\n",
       "    <tr>\n",
       "      <th>Date</th>\n",
       "      <th></th>\n",
       "      <th></th>\n",
       "      <th></th>\n",
       "      <th></th>\n",
       "      <th></th>\n",
       "      <th></th>\n",
       "      <th></th>\n",
       "      <th></th>\n",
       "      <th></th>\n",
       "      <th></th>\n",
       "      <th></th>\n",
       "      <th></th>\n",
       "      <th></th>\n",
       "      <th></th>\n",
       "      <th></th>\n",
       "      <th></th>\n",
       "      <th></th>\n",
       "    </tr>\n",
       "  </thead>\n",
       "  <tbody>\n",
       "    <tr>\n",
       "      <th>1980-03-07</th>\n",
       "      <td>26.24</td>\n",
       "      <td>NaN</td>\n",
       "      <td>NaN</td>\n",
       "      <td>NaN</td>\n",
       "      <td>NaN</td>\n",
       "      <td>NaN</td>\n",
       "      <td>NaN</td>\n",
       "      <td>NaN</td>\n",
       "      <td>NaN</td>\n",
       "      <td>NaN</td>\n",
       "      <td>NaN</td>\n",
       "      <td>3</td>\n",
       "      <td>4</td>\n",
       "      <td>False</td>\n",
       "      <td>spring</td>\n",
       "      <td>NaN</td>\n",
       "      <td>0</td>\n",
       "    </tr>\n",
       "    <tr>\n",
       "      <th>1980-03-08</th>\n",
       "      <td>25.97</td>\n",
       "      <td>NaN</td>\n",
       "      <td>NaN</td>\n",
       "      <td>NaN</td>\n",
       "      <td>NaN</td>\n",
       "      <td>NaN</td>\n",
       "      <td>NaN</td>\n",
       "      <td>NaN</td>\n",
       "      <td>NaN</td>\n",
       "      <td>NaN</td>\n",
       "      <td>NaN</td>\n",
       "      <td>3</td>\n",
       "      <td>5</td>\n",
       "      <td>True</td>\n",
       "      <td>spring</td>\n",
       "      <td>NaN</td>\n",
       "      <td>0</td>\n",
       "    </tr>\n",
       "    <tr>\n",
       "      <th>1980-03-09</th>\n",
       "      <td>25.28</td>\n",
       "      <td>NaN</td>\n",
       "      <td>NaN</td>\n",
       "      <td>NaN</td>\n",
       "      <td>NaN</td>\n",
       "      <td>NaN</td>\n",
       "      <td>NaN</td>\n",
       "      <td>NaN</td>\n",
       "      <td>NaN</td>\n",
       "      <td>NaN</td>\n",
       "      <td>NaN</td>\n",
       "      <td>3</td>\n",
       "      <td>6</td>\n",
       "      <td>True</td>\n",
       "      <td>spring</td>\n",
       "      <td>NaN</td>\n",
       "      <td>0</td>\n",
       "    </tr>\n",
       "    <tr>\n",
       "      <th>1980-03-10</th>\n",
       "      <td>24.31</td>\n",
       "      <td>NaN</td>\n",
       "      <td>NaN</td>\n",
       "      <td>NaN</td>\n",
       "      <td>NaN</td>\n",
       "      <td>NaN</td>\n",
       "      <td>NaN</td>\n",
       "      <td>NaN</td>\n",
       "      <td>NaN</td>\n",
       "      <td>NaN</td>\n",
       "      <td>NaN</td>\n",
       "      <td>3</td>\n",
       "      <td>0</td>\n",
       "      <td>False</td>\n",
       "      <td>spring</td>\n",
       "      <td>NaN</td>\n",
       "      <td>0</td>\n",
       "    </tr>\n",
       "    <tr>\n",
       "      <th>1980-03-11</th>\n",
       "      <td>23.19</td>\n",
       "      <td>NaN</td>\n",
       "      <td>NaN</td>\n",
       "      <td>NaN</td>\n",
       "      <td>NaN</td>\n",
       "      <td>NaN</td>\n",
       "      <td>NaN</td>\n",
       "      <td>NaN</td>\n",
       "      <td>NaN</td>\n",
       "      <td>NaN</td>\n",
       "      <td>NaN</td>\n",
       "      <td>3</td>\n",
       "      <td>1</td>\n",
       "      <td>False</td>\n",
       "      <td>spring</td>\n",
       "      <td>NaN</td>\n",
       "      <td>0</td>\n",
       "    </tr>\n",
       "    <tr>\n",
       "      <th>...</th>\n",
       "      <td>...</td>\n",
       "      <td>...</td>\n",
       "      <td>...</td>\n",
       "      <td>...</td>\n",
       "      <td>...</td>\n",
       "      <td>...</td>\n",
       "      <td>...</td>\n",
       "      <td>...</td>\n",
       "      <td>...</td>\n",
       "      <td>...</td>\n",
       "      <td>...</td>\n",
       "      <td>...</td>\n",
       "      <td>...</td>\n",
       "      <td>...</td>\n",
       "      <td>...</td>\n",
       "      <td>...</td>\n",
       "      <td>...</td>\n",
       "    </tr>\n",
       "    <tr>\n",
       "      <th>1998-06-18</th>\n",
       "      <td>25.93</td>\n",
       "      <td>27.18</td>\n",
       "      <td>27.47</td>\n",
       "      <td>26.67</td>\n",
       "      <td>28.31</td>\n",
       "      <td>27.187143</td>\n",
       "      <td>0.273966</td>\n",
       "      <td>27.295000</td>\n",
       "      <td>0.492396</td>\n",
       "      <td>-0.29</td>\n",
       "      <td>0.51</td>\n",
       "      <td>6</td>\n",
       "      <td>3</td>\n",
       "      <td>False</td>\n",
       "      <td>summer</td>\n",
       "      <td>0.721285</td>\n",
       "      <td>0</td>\n",
       "    </tr>\n",
       "    <tr>\n",
       "      <th>1998-06-19</th>\n",
       "      <td>25.91</td>\n",
       "      <td>27.11</td>\n",
       "      <td>27.18</td>\n",
       "      <td>26.69</td>\n",
       "      <td>28.24</td>\n",
       "      <td>27.247143</td>\n",
       "      <td>0.175092</td>\n",
       "      <td>27.257333</td>\n",
       "      <td>0.459752</td>\n",
       "      <td>-0.07</td>\n",
       "      <td>0.42</td>\n",
       "      <td>6</td>\n",
       "      <td>4</td>\n",
       "      <td>False</td>\n",
       "      <td>summer</td>\n",
       "      <td>0.651285</td>\n",
       "      <td>0</td>\n",
       "    </tr>\n",
       "    <tr>\n",
       "      <th>1998-06-20</th>\n",
       "      <td>27.40</td>\n",
       "      <td>28.43</td>\n",
       "      <td>27.11</td>\n",
       "      <td>27.00</td>\n",
       "      <td>28.08</td>\n",
       "      <td>27.451429</td>\n",
       "      <td>0.452748</td>\n",
       "      <td>27.269000</td>\n",
       "      <td>0.485090</td>\n",
       "      <td>1.32</td>\n",
       "      <td>1.43</td>\n",
       "      <td>6</td>\n",
       "      <td>5</td>\n",
       "      <td>True</td>\n",
       "      <td>summer</td>\n",
       "      <td>1.971285</td>\n",
       "      <td>0</td>\n",
       "    </tr>\n",
       "    <tr>\n",
       "      <th>1998-06-21</th>\n",
       "      <td>NaN</td>\n",
       "      <td>28.51</td>\n",
       "      <td>28.43</td>\n",
       "      <td>27.26</td>\n",
       "      <td>28.12</td>\n",
       "      <td>27.630000</td>\n",
       "      <td>0.590282</td>\n",
       "      <td>27.282000</td>\n",
       "      <td>0.513100</td>\n",
       "      <td>0.08</td>\n",
       "      <td>1.25</td>\n",
       "      <td>6</td>\n",
       "      <td>6</td>\n",
       "      <td>True</td>\n",
       "      <td>summer</td>\n",
       "      <td>2.051285</td>\n",
       "      <td>0</td>\n",
       "    </tr>\n",
       "    <tr>\n",
       "      <th>1998-06-22</th>\n",
       "      <td>NaN</td>\n",
       "      <td>29.48</td>\n",
       "      <td>28.51</td>\n",
       "      <td>27.24</td>\n",
       "      <td>27.81</td>\n",
       "      <td>27.950000</td>\n",
       "      <td>0.879792</td>\n",
       "      <td>27.337667</td>\n",
       "      <td>0.645791</td>\n",
       "      <td>0.97</td>\n",
       "      <td>2.24</td>\n",
       "      <td>6</td>\n",
       "      <td>0</td>\n",
       "      <td>False</td>\n",
       "      <td>summer</td>\n",
       "      <td>3.021285</td>\n",
       "      <td>1</td>\n",
       "    </tr>\n",
       "  </tbody>\n",
       "</table>\n",
       "<p>6370 rows × 17 columns</p>\n",
       "</div>"
      ],
      "text/plain": [
       "            nino3  nino34  nino34_lag_1  nino34_lag_7  nino34_lag_30  \\\n",
       "Date                                                                   \n",
       "1980-03-07  26.24     NaN           NaN           NaN            NaN   \n",
       "1980-03-08  25.97     NaN           NaN           NaN            NaN   \n",
       "1980-03-09  25.28     NaN           NaN           NaN            NaN   \n",
       "1980-03-10  24.31     NaN           NaN           NaN            NaN   \n",
       "1980-03-11  23.19     NaN           NaN           NaN            NaN   \n",
       "...           ...     ...           ...           ...            ...   \n",
       "1998-06-18  25.93   27.18         27.47         26.67          28.31   \n",
       "1998-06-19  25.91   27.11         27.18         26.69          28.24   \n",
       "1998-06-20  27.40   28.43         27.11         27.00          28.08   \n",
       "1998-06-21    NaN   28.51         28.43         27.26          28.12   \n",
       "1998-06-22    NaN   29.48         28.51         27.24          27.81   \n",
       "\n",
       "            nino34_roll_mean_7  nino34_roll_std_7  nino34_roll_mean_30  \\\n",
       "Date                                                                     \n",
       "1980-03-07                 NaN                NaN                  NaN   \n",
       "1980-03-08                 NaN                NaN                  NaN   \n",
       "1980-03-09                 NaN                NaN                  NaN   \n",
       "1980-03-10                 NaN                NaN                  NaN   \n",
       "1980-03-11                 NaN                NaN                  NaN   \n",
       "...                        ...                ...                  ...   \n",
       "1998-06-18           27.187143           0.273966            27.295000   \n",
       "1998-06-19           27.247143           0.175092            27.257333   \n",
       "1998-06-20           27.451429           0.452748            27.269000   \n",
       "1998-06-21           27.630000           0.590282            27.282000   \n",
       "1998-06-22           27.950000           0.879792            27.337667   \n",
       "\n",
       "            nino34_roll_std_30  nino34_diff_1  nino34_diff_7  month  \\\n",
       "Date                                                                  \n",
       "1980-03-07                 NaN            NaN            NaN      3   \n",
       "1980-03-08                 NaN            NaN            NaN      3   \n",
       "1980-03-09                 NaN            NaN            NaN      3   \n",
       "1980-03-10                 NaN            NaN            NaN      3   \n",
       "1980-03-11                 NaN            NaN            NaN      3   \n",
       "...                        ...            ...            ...    ...   \n",
       "1998-06-18            0.492396          -0.29           0.51      6   \n",
       "1998-06-19            0.459752          -0.07           0.42      6   \n",
       "1998-06-20            0.485090           1.32           1.43      6   \n",
       "1998-06-21            0.513100           0.08           1.25      6   \n",
       "1998-06-22            0.645791           0.97           2.24      6   \n",
       "\n",
       "            day_of_week  is_weekend  season  nino34_anomaly  is_elnino  \n",
       "Date                                                                    \n",
       "1980-03-07            4       False  spring             NaN          0  \n",
       "1980-03-08            5        True  spring             NaN          0  \n",
       "1980-03-09            6        True  spring             NaN          0  \n",
       "1980-03-10            0       False  spring             NaN          0  \n",
       "1980-03-11            1       False  spring             NaN          0  \n",
       "...                 ...         ...     ...             ...        ...  \n",
       "1998-06-18            3       False  summer        0.721285          0  \n",
       "1998-06-19            4       False  summer        0.651285          0  \n",
       "1998-06-20            5        True  summer        1.971285          0  \n",
       "1998-06-21            6        True  summer        2.051285          0  \n",
       "1998-06-22            0       False  summer        3.021285          1  \n",
       "\n",
       "[6370 rows x 17 columns]"
      ]
     },
     "execution_count": 103,
     "metadata": {},
     "output_type": "execute_result"
    }
   ],
   "source": [
    "df_nino"
   ]
  },
  {
   "cell_type": "code",
   "execution_count": 104,
   "id": "978c15b9",
   "metadata": {},
   "outputs": [
    {
     "ename": "ValueError",
     "evalue": "Date\n1980-03-07    NaN\n1980-03-08    NaN\n1980-03-09    NaN\n1980-03-10    NaN\n1980-03-11    NaN\n             ... \n1998-06-18    NaN\n1998-06-19    NaN\n1998-06-20    NaN\n1998-06-21    NaN\n1998-06-22    NaN\nName: is_elnino, Length: 6370, dtype: object is not a valid value for color: supported inputs are (r, g, b) and (r, g, b, a) 0-1 float tuples; '#rrggbb', '#rrggbbaa', '#rgb', '#rgba' strings; named color strings; string reprs of 0-1 floats for grayscale values; 'C0', 'C1', ... strings for colors of the color cycle; and pairs combining one of the above with an alpha value",
     "output_type": "error",
     "traceback": [
      "\u001b[31m---------------------------------------------------------------------------\u001b[39m",
      "\u001b[31mValueError\u001b[39m                                Traceback (most recent call last)",
      "\u001b[36mCell\u001b[39m\u001b[36m \u001b[39m\u001b[32mIn[104]\u001b[39m\u001b[32m, line 3\u001b[39m\n\u001b[32m      1\u001b[39m colors = {\u001b[38;5;28;01mTrue\u001b[39;00m: \u001b[33m'\u001b[39m\u001b[33mred\u001b[39m\u001b[33m'\u001b[39m, \u001b[38;5;28;01mFalse\u001b[39;00m: \u001b[33m'\u001b[39m\u001b[33mblue\u001b[39m\u001b[33m'\u001b[39m}\n\u001b[32m      2\u001b[39m plt.figure(figsize=(\u001b[32m14\u001b[39m, \u001b[32m6\u001b[39m))\n\u001b[32m----> \u001b[39m\u001b[32m3\u001b[39m \u001b[43mplt\u001b[49m\u001b[43m.\u001b[49m\u001b[43mplot\u001b[49m\u001b[43m(\u001b[49m\u001b[43mdf_nino\u001b[49m\u001b[43m.\u001b[49m\u001b[43mindex\u001b[49m\u001b[43m,\u001b[49m\u001b[43m \u001b[49m\u001b[43mdf_nino\u001b[49m\u001b[43m[\u001b[49m\u001b[33;43m'\u001b[39;49m\u001b[33;43mnino34\u001b[39;49m\u001b[33;43m'\u001b[39;49m\u001b[43m]\u001b[49m\u001b[43m,\u001b[49m\u001b[43m \u001b[49m\u001b[43mcolor\u001b[49m\u001b[43m=\u001b[49m\u001b[43mdf_nino\u001b[49m\u001b[43m[\u001b[49m\u001b[33;43m'\u001b[39;49m\u001b[33;43mis_elnino\u001b[39;49m\u001b[33;43m'\u001b[39;49m\u001b[43m]\u001b[49m\u001b[43m.\u001b[49m\u001b[43mmap\u001b[49m\u001b[43m(\u001b[49m\u001b[43mcolors\u001b[49m\u001b[43m)\u001b[49m\u001b[43m)\u001b[49m\n\u001b[32m      4\u001b[39m plt.title(\u001b[33m'\u001b[39m\u001b[33mNiño 3.4 SST Anomalies Over Time\u001b[39m\u001b[33m'\u001b[39m)\n\u001b[32m      5\u001b[39m plt.ylabel(\u001b[33m'\u001b[39m\u001b[33mAnomaly (°C)\u001b[39m\u001b[33m'\u001b[39m)\n",
      "\u001b[36mFile \u001b[39m\u001b[32md:\\GitHub\\Prediction of El-nino Events\\.venv\\Lib\\site-packages\\matplotlib\\pyplot.py:3838\u001b[39m, in \u001b[36mplot\u001b[39m\u001b[34m(scalex, scaley, data, *args, **kwargs)\u001b[39m\n\u001b[32m   3830\u001b[39m \u001b[38;5;129m@_copy_docstring_and_deprecators\u001b[39m(Axes.plot)\n\u001b[32m   3831\u001b[39m \u001b[38;5;28;01mdef\u001b[39;00m\u001b[38;5;250m \u001b[39m\u001b[34mplot\u001b[39m(\n\u001b[32m   3832\u001b[39m     *args: \u001b[38;5;28mfloat\u001b[39m | ArrayLike | \u001b[38;5;28mstr\u001b[39m,\n\u001b[32m   (...)\u001b[39m\u001b[32m   3836\u001b[39m     **kwargs,\n\u001b[32m   3837\u001b[39m ) -> \u001b[38;5;28mlist\u001b[39m[Line2D]:\n\u001b[32m-> \u001b[39m\u001b[32m3838\u001b[39m     \u001b[38;5;28;01mreturn\u001b[39;00m \u001b[43mgca\u001b[49m\u001b[43m(\u001b[49m\u001b[43m)\u001b[49m\u001b[43m.\u001b[49m\u001b[43mplot\u001b[49m\u001b[43m(\u001b[49m\n\u001b[32m   3839\u001b[39m \u001b[43m        \u001b[49m\u001b[43m*\u001b[49m\u001b[43margs\u001b[49m\u001b[43m,\u001b[49m\n\u001b[32m   3840\u001b[39m \u001b[43m        \u001b[49m\u001b[43mscalex\u001b[49m\u001b[43m=\u001b[49m\u001b[43mscalex\u001b[49m\u001b[43m,\u001b[49m\n\u001b[32m   3841\u001b[39m \u001b[43m        \u001b[49m\u001b[43mscaley\u001b[49m\u001b[43m=\u001b[49m\u001b[43mscaley\u001b[49m\u001b[43m,\u001b[49m\n\u001b[32m   3842\u001b[39m \u001b[43m        \u001b[49m\u001b[43m*\u001b[49m\u001b[43m*\u001b[49m\u001b[43m(\u001b[49m\u001b[43m{\u001b[49m\u001b[33;43m\"\u001b[39;49m\u001b[33;43mdata\u001b[39;49m\u001b[33;43m\"\u001b[39;49m\u001b[43m:\u001b[49m\u001b[43m \u001b[49m\u001b[43mdata\u001b[49m\u001b[43m}\u001b[49m\u001b[43m \u001b[49m\u001b[38;5;28;43;01mif\u001b[39;49;00m\u001b[43m \u001b[49m\u001b[43mdata\u001b[49m\u001b[43m \u001b[49m\u001b[38;5;129;43;01mis\u001b[39;49;00m\u001b[43m \u001b[49m\u001b[38;5;129;43;01mnot\u001b[39;49;00m\u001b[43m \u001b[49m\u001b[38;5;28;43;01mNone\u001b[39;49;00m\u001b[43m \u001b[49m\u001b[38;5;28;43;01melse\u001b[39;49;00m\u001b[43m \u001b[49m\u001b[43m{\u001b[49m\u001b[43m}\u001b[49m\u001b[43m)\u001b[49m\u001b[43m,\u001b[49m\n\u001b[32m   3843\u001b[39m \u001b[43m        \u001b[49m\u001b[43m*\u001b[49m\u001b[43m*\u001b[49m\u001b[43mkwargs\u001b[49m\u001b[43m,\u001b[49m\n\u001b[32m   3844\u001b[39m \u001b[43m    \u001b[49m\u001b[43m)\u001b[49m\n",
      "\u001b[36mFile \u001b[39m\u001b[32md:\\GitHub\\Prediction of El-nino Events\\.venv\\Lib\\site-packages\\matplotlib\\axes\\_axes.py:1777\u001b[39m, in \u001b[36mAxes.plot\u001b[39m\u001b[34m(self, scalex, scaley, data, *args, **kwargs)\u001b[39m\n\u001b[32m   1534\u001b[39m \u001b[38;5;250m\u001b[39m\u001b[33;03m\"\"\"\u001b[39;00m\n\u001b[32m   1535\u001b[39m \u001b[33;03mPlot y versus x as lines and/or markers.\u001b[39;00m\n\u001b[32m   1536\u001b[39m \n\u001b[32m   (...)\u001b[39m\u001b[32m   1774\u001b[39m \u001b[33;03m(``'green'``) or hex strings (``'#008000'``).\u001b[39;00m\n\u001b[32m   1775\u001b[39m \u001b[33;03m\"\"\"\u001b[39;00m\n\u001b[32m   1776\u001b[39m kwargs = cbook.normalize_kwargs(kwargs, mlines.Line2D)\n\u001b[32m-> \u001b[39m\u001b[32m1777\u001b[39m lines = [*\u001b[38;5;28mself\u001b[39m._get_lines(\u001b[38;5;28mself\u001b[39m, *args, data=data, **kwargs)]\n\u001b[32m   1778\u001b[39m \u001b[38;5;28;01mfor\u001b[39;00m line \u001b[38;5;129;01min\u001b[39;00m lines:\n\u001b[32m   1779\u001b[39m     \u001b[38;5;28mself\u001b[39m.add_line(line)\n",
      "\u001b[36mFile \u001b[39m\u001b[32md:\\GitHub\\Prediction of El-nino Events\\.venv\\Lib\\site-packages\\matplotlib\\axes\\_base.py:297\u001b[39m, in \u001b[36m_process_plot_var_args.__call__\u001b[39m\u001b[34m(self, axes, data, return_kwargs, *args, **kwargs)\u001b[39m\n\u001b[32m    295\u001b[39m     this += args[\u001b[32m0\u001b[39m],\n\u001b[32m    296\u001b[39m     args = args[\u001b[32m1\u001b[39m:]\n\u001b[32m--> \u001b[39m\u001b[32m297\u001b[39m \u001b[38;5;28;01myield from\u001b[39;00m \u001b[38;5;28;43mself\u001b[39;49m\u001b[43m.\u001b[49m\u001b[43m_plot_args\u001b[49m\u001b[43m(\u001b[49m\n\u001b[32m    298\u001b[39m \u001b[43m    \u001b[49m\u001b[43maxes\u001b[49m\u001b[43m,\u001b[49m\u001b[43m \u001b[49m\u001b[43mthis\u001b[49m\u001b[43m,\u001b[49m\u001b[43m \u001b[49m\u001b[43mkwargs\u001b[49m\u001b[43m,\u001b[49m\u001b[43m \u001b[49m\u001b[43mambiguous_fmt_datakey\u001b[49m\u001b[43m=\u001b[49m\u001b[43mambiguous_fmt_datakey\u001b[49m\u001b[43m,\u001b[49m\n\u001b[32m    299\u001b[39m \u001b[43m    \u001b[49m\u001b[43mreturn_kwargs\u001b[49m\u001b[43m=\u001b[49m\u001b[43mreturn_kwargs\u001b[49m\n\u001b[32m    300\u001b[39m \u001b[43m\u001b[49m\u001b[43m)\u001b[49m\n",
      "\u001b[36mFile \u001b[39m\u001b[32md:\\GitHub\\Prediction of El-nino Events\\.venv\\Lib\\site-packages\\matplotlib\\axes\\_base.py:546\u001b[39m, in \u001b[36m_process_plot_var_args._plot_args\u001b[39m\u001b[34m(self, axes, tup, kwargs, return_kwargs, ambiguous_fmt_datakey)\u001b[39m\n\u001b[32m    544\u001b[39m     \u001b[38;5;28;01mreturn\u001b[39;00m \u001b[38;5;28mlist\u001b[39m(result)\n\u001b[32m    545\u001b[39m \u001b[38;5;28;01melse\u001b[39;00m:\n\u001b[32m--> \u001b[39m\u001b[32m546\u001b[39m     \u001b[38;5;28;01mreturn\u001b[39;00m \u001b[43m[\u001b[49m\u001b[43ml\u001b[49m\u001b[43m[\u001b[49m\u001b[32;43m0\u001b[39;49m\u001b[43m]\u001b[49m\u001b[43m \u001b[49m\u001b[38;5;28;43;01mfor\u001b[39;49;00m\u001b[43m \u001b[49m\u001b[43ml\u001b[49m\u001b[43m \u001b[49m\u001b[38;5;129;43;01min\u001b[39;49;00m\u001b[43m \u001b[49m\u001b[43mresult\u001b[49m\u001b[43m]\u001b[49m\n",
      "\u001b[36mFile \u001b[39m\u001b[32md:\\GitHub\\Prediction of El-nino Events\\.venv\\Lib\\site-packages\\matplotlib\\axes\\_base.py:539\u001b[39m, in \u001b[36m<genexpr>\u001b[39m\u001b[34m(.0)\u001b[39m\n\u001b[32m    534\u001b[39m \u001b[38;5;28;01melse\u001b[39;00m:\n\u001b[32m    535\u001b[39m     \u001b[38;5;28;01mraise\u001b[39;00m \u001b[38;5;167;01mValueError\u001b[39;00m(\n\u001b[32m    536\u001b[39m         \u001b[33mf\u001b[39m\u001b[33m\"\u001b[39m\u001b[33mlabel must be scalar or have the same length as the input \u001b[39m\u001b[33m\"\u001b[39m\n\u001b[32m    537\u001b[39m         \u001b[33mf\u001b[39m\u001b[33m\"\u001b[39m\u001b[33mdata, but found \u001b[39m\u001b[38;5;132;01m{\u001b[39;00m\u001b[38;5;28mlen\u001b[39m(label)\u001b[38;5;132;01m}\u001b[39;00m\u001b[33m for \u001b[39m\u001b[38;5;132;01m{\u001b[39;00mn_datasets\u001b[38;5;132;01m}\u001b[39;00m\u001b[33m datasets.\u001b[39m\u001b[33m\"\u001b[39m)\n\u001b[32m--> \u001b[39m\u001b[32m539\u001b[39m result = (\u001b[43mmake_artist\u001b[49m\u001b[43m(\u001b[49m\u001b[43maxes\u001b[49m\u001b[43m,\u001b[49m\u001b[43m \u001b[49m\u001b[43mx\u001b[49m\u001b[43m[\u001b[49m\u001b[43m:\u001b[49m\u001b[43m,\u001b[49m\u001b[43m \u001b[49m\u001b[43mj\u001b[49m\u001b[43m \u001b[49m\u001b[43m%\u001b[49m\u001b[43m \u001b[49m\u001b[43mncx\u001b[49m\u001b[43m]\u001b[49m\u001b[43m,\u001b[49m\u001b[43m \u001b[49m\u001b[43my\u001b[49m\u001b[43m[\u001b[49m\u001b[43m:\u001b[49m\u001b[43m,\u001b[49m\u001b[43m \u001b[49m\u001b[43mj\u001b[49m\u001b[43m \u001b[49m\u001b[43m%\u001b[49m\u001b[43m \u001b[49m\u001b[43mncy\u001b[49m\u001b[43m]\u001b[49m\u001b[43m,\u001b[49m\u001b[43m \u001b[49m\u001b[43mkw\u001b[49m\u001b[43m,\u001b[49m\n\u001b[32m    540\u001b[39m \u001b[43m                      \u001b[49m\u001b[43m{\u001b[49m\u001b[43m*\u001b[49m\u001b[43m*\u001b[49m\u001b[43mkwargs\u001b[49m\u001b[43m,\u001b[49m\u001b[43m \u001b[49m\u001b[33;43m'\u001b[39;49m\u001b[33;43mlabel\u001b[39;49m\u001b[33;43m'\u001b[39;49m\u001b[43m:\u001b[49m\u001b[43m \u001b[49m\u001b[43mlabel\u001b[49m\u001b[43m}\u001b[49m\u001b[43m)\u001b[49m\n\u001b[32m    541\u001b[39m           \u001b[38;5;28;01mfor\u001b[39;00m j, label \u001b[38;5;129;01min\u001b[39;00m \u001b[38;5;28menumerate\u001b[39m(labels))\n\u001b[32m    543\u001b[39m \u001b[38;5;28;01mif\u001b[39;00m return_kwargs:\n\u001b[32m    544\u001b[39m     \u001b[38;5;28;01mreturn\u001b[39;00m \u001b[38;5;28mlist\u001b[39m(result)\n",
      "\u001b[36mFile \u001b[39m\u001b[32md:\\GitHub\\Prediction of El-nino Events\\.venv\\Lib\\site-packages\\matplotlib\\axes\\_base.py:338\u001b[39m, in \u001b[36m_process_plot_var_args._make_line\u001b[39m\u001b[34m(self, axes, x, y, kw, kwargs)\u001b[39m\n\u001b[32m    336\u001b[39m kw = {**kw, **kwargs}  \u001b[38;5;66;03m# Don't modify the original kw.\u001b[39;00m\n\u001b[32m    337\u001b[39m \u001b[38;5;28mself\u001b[39m._setdefaults(\u001b[38;5;28mself\u001b[39m._getdefaults(kw), kw)\n\u001b[32m--> \u001b[39m\u001b[32m338\u001b[39m seg = \u001b[43mmlines\u001b[49m\u001b[43m.\u001b[49m\u001b[43mLine2D\u001b[49m\u001b[43m(\u001b[49m\u001b[43mx\u001b[49m\u001b[43m,\u001b[49m\u001b[43m \u001b[49m\u001b[43my\u001b[49m\u001b[43m,\u001b[49m\u001b[43m \u001b[49m\u001b[43m*\u001b[49m\u001b[43m*\u001b[49m\u001b[43mkw\u001b[49m\u001b[43m)\u001b[49m\n\u001b[32m    339\u001b[39m \u001b[38;5;28;01mreturn\u001b[39;00m seg, kw\n",
      "\u001b[36mFile \u001b[39m\u001b[32md:\\GitHub\\Prediction of El-nino Events\\.venv\\Lib\\site-packages\\matplotlib\\lines.py:390\u001b[39m, in \u001b[36mLine2D.__init__\u001b[39m\u001b[34m(self, xdata, ydata, linewidth, linestyle, color, gapcolor, marker, markersize, markeredgewidth, markeredgecolor, markerfacecolor, markerfacecoloralt, fillstyle, antialiased, dash_capstyle, solid_capstyle, dash_joinstyle, solid_joinstyle, pickradius, drawstyle, markevery, **kwargs)\u001b[39m\n\u001b[32m    387\u001b[39m \u001b[38;5;28mself\u001b[39m.set_drawstyle(drawstyle)\n\u001b[32m    389\u001b[39m \u001b[38;5;28mself\u001b[39m._color = \u001b[38;5;28;01mNone\u001b[39;00m\n\u001b[32m--> \u001b[39m\u001b[32m390\u001b[39m \u001b[38;5;28;43mself\u001b[39;49m\u001b[43m.\u001b[49m\u001b[43mset_color\u001b[49m\u001b[43m(\u001b[49m\u001b[43mcolor\u001b[49m\u001b[43m)\u001b[49m\n\u001b[32m    391\u001b[39m \u001b[38;5;28;01mif\u001b[39;00m marker \u001b[38;5;129;01mis\u001b[39;00m \u001b[38;5;28;01mNone\u001b[39;00m:\n\u001b[32m    392\u001b[39m     marker = \u001b[33m'\u001b[39m\u001b[33mnone\u001b[39m\u001b[33m'\u001b[39m  \u001b[38;5;66;03m# Default.\u001b[39;00m\n",
      "\u001b[36mFile \u001b[39m\u001b[32md:\\GitHub\\Prediction of El-nino Events\\.venv\\Lib\\site-packages\\matplotlib\\lines.py:1081\u001b[39m, in \u001b[36mLine2D.set_color\u001b[39m\u001b[34m(self, color)\u001b[39m\n\u001b[32m   1073\u001b[39m \u001b[38;5;28;01mdef\u001b[39;00m\u001b[38;5;250m \u001b[39m\u001b[34mset_color\u001b[39m(\u001b[38;5;28mself\u001b[39m, color):\n\u001b[32m   1074\u001b[39m \u001b[38;5;250m    \u001b[39m\u001b[33;03m\"\"\"\u001b[39;00m\n\u001b[32m   1075\u001b[39m \u001b[33;03m    Set the color of the line.\u001b[39;00m\n\u001b[32m   1076\u001b[39m \n\u001b[32m   (...)\u001b[39m\u001b[32m   1079\u001b[39m \u001b[33;03m    color : :mpltype:`color`\u001b[39;00m\n\u001b[32m   1080\u001b[39m \u001b[33;03m    \"\"\"\u001b[39;00m\n\u001b[32m-> \u001b[39m\u001b[32m1081\u001b[39m     \u001b[43mmcolors\u001b[49m\u001b[43m.\u001b[49m\u001b[43m_check_color_like\u001b[49m\u001b[43m(\u001b[49m\u001b[43mcolor\u001b[49m\u001b[43m=\u001b[49m\u001b[43mcolor\u001b[49m\u001b[43m)\u001b[49m\n\u001b[32m   1082\u001b[39m     \u001b[38;5;28mself\u001b[39m._color = color\n\u001b[32m   1083\u001b[39m     \u001b[38;5;28mself\u001b[39m.stale = \u001b[38;5;28;01mTrue\u001b[39;00m\n",
      "\u001b[36mFile \u001b[39m\u001b[32md:\\GitHub\\Prediction of El-nino Events\\.venv\\Lib\\site-packages\\matplotlib\\colors.py:249\u001b[39m, in \u001b[36m_check_color_like\u001b[39m\u001b[34m(**kwargs)\u001b[39m\n\u001b[32m    247\u001b[39m \u001b[38;5;28;01mfor\u001b[39;00m k, v \u001b[38;5;129;01min\u001b[39;00m kwargs.items():\n\u001b[32m    248\u001b[39m     \u001b[38;5;28;01mif\u001b[39;00m \u001b[38;5;129;01mnot\u001b[39;00m is_color_like(v):\n\u001b[32m--> \u001b[39m\u001b[32m249\u001b[39m         \u001b[38;5;28;01mraise\u001b[39;00m \u001b[38;5;167;01mValueError\u001b[39;00m(\n\u001b[32m    250\u001b[39m             \u001b[33mf\u001b[39m\u001b[33m\"\u001b[39m\u001b[38;5;132;01m{\u001b[39;00mv\u001b[38;5;132;01m!r}\u001b[39;00m\u001b[33m is not a valid value for \u001b[39m\u001b[38;5;132;01m{\u001b[39;00mk\u001b[38;5;132;01m}\u001b[39;00m\u001b[33m: supported inputs are \u001b[39m\u001b[33m\"\u001b[39m\n\u001b[32m    251\u001b[39m             \u001b[33mf\u001b[39m\u001b[33m\"\u001b[39m\u001b[33m(r, g, b) and (r, g, b, a) 0-1 float tuples; \u001b[39m\u001b[33m\"\u001b[39m\n\u001b[32m    252\u001b[39m             \u001b[33mf\u001b[39m\u001b[33m\"\u001b[39m\u001b[33m'\u001b[39m\u001b[33m#rrggbb\u001b[39m\u001b[33m'\u001b[39m\u001b[33m, \u001b[39m\u001b[33m'\u001b[39m\u001b[33m#rrggbbaa\u001b[39m\u001b[33m'\u001b[39m\u001b[33m, \u001b[39m\u001b[33m'\u001b[39m\u001b[33m#rgb\u001b[39m\u001b[33m'\u001b[39m\u001b[33m, \u001b[39m\u001b[33m'\u001b[39m\u001b[33m#rgba\u001b[39m\u001b[33m'\u001b[39m\u001b[33m strings; \u001b[39m\u001b[33m\"\u001b[39m\n\u001b[32m    253\u001b[39m             \u001b[33mf\u001b[39m\u001b[33m\"\u001b[39m\u001b[33mnamed color strings; \u001b[39m\u001b[33m\"\u001b[39m\n\u001b[32m    254\u001b[39m             \u001b[33mf\u001b[39m\u001b[33m\"\u001b[39m\u001b[33mstring reprs of 0-1 floats for grayscale values; \u001b[39m\u001b[33m\"\u001b[39m\n\u001b[32m    255\u001b[39m             \u001b[33mf\u001b[39m\u001b[33m\"\u001b[39m\u001b[33m'\u001b[39m\u001b[33mC0\u001b[39m\u001b[33m'\u001b[39m\u001b[33m, \u001b[39m\u001b[33m'\u001b[39m\u001b[33mC1\u001b[39m\u001b[33m'\u001b[39m\u001b[33m, ... strings for colors of the color cycle; \u001b[39m\u001b[33m\"\u001b[39m\n\u001b[32m    256\u001b[39m             \u001b[33mf\u001b[39m\u001b[33m\"\u001b[39m\u001b[33mand pairs combining one of the above with an alpha value\u001b[39m\u001b[33m\"\u001b[39m)\n",
      "\u001b[31mValueError\u001b[39m: Date\n1980-03-07    NaN\n1980-03-08    NaN\n1980-03-09    NaN\n1980-03-10    NaN\n1980-03-11    NaN\n             ... \n1998-06-18    NaN\n1998-06-19    NaN\n1998-06-20    NaN\n1998-06-21    NaN\n1998-06-22    NaN\nName: is_elnino, Length: 6370, dtype: object is not a valid value for color: supported inputs are (r, g, b) and (r, g, b, a) 0-1 float tuples; '#rrggbb', '#rrggbbaa', '#rgb', '#rgba' strings; named color strings; string reprs of 0-1 floats for grayscale values; 'C0', 'C1', ... strings for colors of the color cycle; and pairs combining one of the above with an alpha value"
     ]
    },
    {
     "data": {
      "image/png": "[encoded data removed]",
      "text/plain": [
       "<Figure size 1400x600 with 1 Axes>"
      ]
     },
     "metadata": {},
     "output_type": "display_data"
    }
   ],
   "source": [
    "colors = {True: 'red', False: 'blue'}\n",
    "plt.figure(figsize=(14, 6))\n",
    "plt.plot(df_nino.index, df_nino['nino34'], color=df_nino['is_elnino'].map(colors))\n",
    "plt.title('Niño 3.4 SST Anomalies Over Time')\n",
    "plt.ylabel('Anomaly (°C)')\n",
    "plt.xlabel('Date')\n",
    "plt.axhline(0.5, color='red', linestyle='--')\n",
    "plt.axhline(-0.5, color='blue', linestyle='--')\n",
    "plt.tight_layout()\n",
    "plt.show()"
   ]
  }
 ],
 "metadata": {
  "kernelspec": {
   "display_name": ".venv",
   "language": "python",
   "name": "python3"
  },
  "language_info": {
   "codemirror_mode": {
    "name": "ipython",
    "version": 3
   },
   "file_extension": ".py",
   "mimetype": "text/x-python",
   "name": "python",
   "nbconvert_exporter": "python",
   "pygments_lexer": "ipython3",
   "version": "3.13.5"
  }
 },
 "nbformat": 4,
 "nbformat_minor": 5
}
