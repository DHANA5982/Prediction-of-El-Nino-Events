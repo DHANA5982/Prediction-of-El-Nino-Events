{
 "cells": [
  {
   "cell_type": "markdown",
   "id": "e895a77f",
   "metadata": {},
   "source": [
    "# Prediction of El-Nino Events"
   ]
  },
  {
   "cell_type": "code",
   "execution_count": 4,
   "id": "5bea8374",
   "metadata": {},
   "outputs": [],
   "source": [
    "import numpy as np\n",
    "import pandas as pd\n",
    "import matplotlib.pyplot as plt\n",
    "import seaborn as sns\n",
    "import os"
   ]
  },
  {
   "cell_type": "code",
   "execution_count": 41,
   "id": "c80580b8",
   "metadata": {},
   "outputs": [
    {
     "name": "stdout",
     "output_type": "stream",
     "text": [
      "(178080, 12)\n"
     ]
    }
   ],
   "source": [
    "df = pd.read_csv('D:/GitHub/Prediction of El-Nino Events/data/raw/elnino.csv')\n",
    "print(df.shape)"
   ]
  },
  {
   "cell_type": "code",
   "execution_count": 6,
   "id": "65e30972",
   "metadata": {},
   "outputs": [
    {
     "name": "stdout",
     "output_type": "stream",
     "text": [
      "   Observation   Year   Month   Day    Date   Latitude   Longitude  \\\n",
      "0            1     80       3     7  800307      -0.02     -109.46   \n",
      "1            2     80       3     8  800308      -0.02     -109.46   \n",
      "2            3     80       3     9  800309      -0.02     -109.46   \n",
      "3            4     80       3    10  800310      -0.02     -109.46   \n",
      "4            5     80       3    11  800311      -0.02     -109.46   \n",
      "\n",
      "   Zonal Winds  Meridional Winds  Humidity  Air Temp  Sea Surface Temp  \n",
      "0         -6.8               0.7         .     26.14             26.24  \n",
      "1         -4.9               1.1         .     25.66             25.97  \n",
      "2         -4.5               2.2         .     25.69             25.28  \n",
      "3         -3.8               1.9         .     25.57             24.31  \n",
      "4         -4.2               1.5         .      25.3             23.19  \n"
     ]
    }
   ],
   "source": [
    "print(df.head())"
   ]
  },
  {
   "cell_type": "code",
   "execution_count": 7,
   "id": "da16eb5b",
   "metadata": {},
   "outputs": [
    {
     "name": "stdout",
     "output_type": "stream",
     "text": [
      "         Observation           Year          Month            Day  \\\n",
      "count  178080.000000  178080.000000  178080.000000  178080.000000   \n",
      "mean    89040.500000      93.302325       6.504869      15.720536   \n",
      "std     51407.412306       3.393818       3.459657       8.800487   \n",
      "min         1.000000      80.000000       1.000000       1.000000   \n",
      "25%     44520.750000      92.000000       4.000000       8.000000   \n",
      "50%     89040.500000      94.000000       6.000000      16.000000   \n",
      "75%    133560.250000      96.000000      10.000000      23.000000   \n",
      "max    178080.000000      98.000000      12.000000      31.000000   \n",
      "\n",
      "                Date       Latitude      Longitude  \n",
      "count  178080.000000  178080.000000  178080.000000  \n",
      "mean   933689.455374       0.473626     -54.025233  \n",
      "std     33900.474320       4.583041     135.363994  \n",
      "min    800307.000000      -8.810000    -180.000000  \n",
      "25%    920116.000000      -2.010000    -154.950000  \n",
      "50%    940601.000000       0.010000    -111.260000  \n",
      "75%    960617.000000       4.980000     147.010000  \n",
      "max    980623.000000       9.050000     171.080000  \n"
     ]
    }
   ],
   "source": [
    "print(df.describe())"
   ]
  },
  {
   "cell_type": "code",
   "execution_count": 8,
   "id": "733b259b",
   "metadata": {},
   "outputs": [
    {
     "name": "stdout",
     "output_type": "stream",
     "text": [
      "<class 'pandas.core.frame.DataFrame'>\n",
      "RangeIndex: 178080 entries, 0 to 178079\n",
      "Data columns (total 12 columns):\n",
      " #   Column             Non-Null Count   Dtype  \n",
      "---  ------             --------------   -----  \n",
      " 0   Observation        178080 non-null  int64  \n",
      " 1    Year              178080 non-null  int64  \n",
      " 2    Month             178080 non-null  int64  \n",
      " 3    Day               178080 non-null  int64  \n",
      " 4    Date              178080 non-null  int64  \n",
      " 5    Latitude          178080 non-null  float64\n",
      " 6    Longitude         178080 non-null  float64\n",
      " 7    Zonal Winds       178080 non-null  object \n",
      " 8    Meridional Winds  178080 non-null  object \n",
      " 9    Humidity          178080 non-null  object \n",
      " 10   Air Temp          178080 non-null  object \n",
      " 11   Sea Surface Temp  178080 non-null  object \n",
      "dtypes: float64(2), int64(5), object(5)\n",
      "memory usage: 16.3+ MB\n"
     ]
    }
   ],
   "source": [
    "df.info()"
   ]
  },
  {
   "cell_type": "code",
   "execution_count": 9,
   "id": "288ae074",
   "metadata": {},
   "outputs": [
    {
     "name": "stdout",
     "output_type": "stream",
     "text": [
      "Observation          0\n",
      " Year                0\n",
      " Month               0\n",
      " Day                 0\n",
      " Date                0\n",
      " Latitude            0\n",
      " Longitude           0\n",
      " Zonal Winds         0\n",
      " Meridional Winds    0\n",
      " Humidity            0\n",
      " Air Temp            0\n",
      " Sea Surface Temp    0\n",
      "dtype: int64\n"
     ]
    }
   ],
   "source": [
    "print(df.isnull().sum())"
   ]
  },
  {
   "cell_type": "code",
   "execution_count": 10,
   "id": "43c2f846",
   "metadata": {},
   "outputs": [
    {
     "name": "stdout",
     "output_type": "stream",
     "text": [
      "Index(['Observation', ' Year', ' Month', ' Day', ' Date', ' Latitude',\n",
      "       ' Longitude', ' Zonal Winds', ' Meridional Winds', ' Humidity',\n",
      "       ' Air Temp', ' Sea Surface Temp'],\n",
      "      dtype='object')\n"
     ]
    }
   ],
   "source": [
    "print(df.columns)"
   ]
  },
  {
   "cell_type": "code",
   "execution_count": 11,
   "id": "57ffe202",
   "metadata": {},
   "outputs": [
    {
     "name": "stdout",
     "output_type": "stream",
     "text": [
      " Zonal Winds: Value: . ; counts: 25163\n",
      " Meridional Winds: Value: . ; counts: 25162\n",
      " Humidity: Value: . ; counts: 65761\n",
      " Air Temp: Value: . ; counts: 18237\n",
      " Sea Surface Temp: Value: . ; counts: 17007\n"
     ]
    }
   ],
   "source": [
    "cols = [' Zonal Winds', ' Meridional Winds', ' Humidity', ' Air Temp', ' Sea Surface Temp']\n",
    "for col in cols:\n",
    "    print(f'{col}: Value: {df[col].value_counts().index[0]} ; counts: {df[col].value_counts().iloc[0]}')"
   ]
  },
  {
   "cell_type": "code",
   "execution_count": 42,
   "id": "af197512",
   "metadata": {},
   "outputs": [],
   "source": [
    "df.columns = df.columns.str.strip()"
   ]
  },
  {
   "cell_type": "code",
   "execution_count": 43,
   "id": "6026d152",
   "metadata": {},
   "outputs": [],
   "source": [
    "df.replace('.', np.nan, inplace=True)"
   ]
  },
  {
   "cell_type": "code",
   "execution_count": 44,
   "id": "c5db7ccd",
   "metadata": {},
   "outputs": [],
   "source": [
    "cols = [col.strip() for col in cols]\n",
    "for col in cols:\n",
    "    df[col] = pd.to_numeric(df[col], errors='coerce')"
   ]
  },
  {
   "cell_type": "code",
   "execution_count": 15,
   "id": "b714df51",
   "metadata": {},
   "outputs": [
    {
     "name": "stdout",
     "output_type": "stream",
     "text": [
      "Observation             0\n",
      "Year                    0\n",
      "Month                   0\n",
      "Day                     0\n",
      "Date                    0\n",
      "Latitude                0\n",
      "Longitude               0\n",
      "Zonal Winds         25163\n",
      "Meridional Winds    25162\n",
      "Humidity            65761\n",
      "Air Temp            18237\n",
      "Sea Surface Temp    17007\n",
      "dtype: int64\n"
     ]
    }
   ],
   "source": [
    "print(df.isnull().sum())"
   ]
  },
  {
   "cell_type": "code",
   "execution_count": 45,
   "id": "d6cadacd",
   "metadata": {},
   "outputs": [
    {
     "name": "stdout",
     "output_type": "stream",
     "text": [
      "178075    1998\n",
      "178076    1998\n",
      "178077    1998\n",
      "178078    1998\n",
      "178079    1998\n",
      "Name: Year, dtype: int64\n"
     ]
    }
   ],
   "source": [
    "df['Year'] = df['Year'].apply(lambda x: int(f'19{x:02d}'))\n",
    "print(df.Year.tail())"
   ]
  },
  {
   "cell_type": "code",
   "execution_count": 46,
   "id": "3597eadd",
   "metadata": {},
   "outputs": [],
   "source": [
    "df['Date'] = pd.to_datetime(df[['Year', 'Month', 'Day']], format=\"%Y%m%d\")"
   ]
  },
  {
   "cell_type": "code",
   "execution_count": 47,
   "id": "37af4bfa",
   "metadata": {},
   "outputs": [],
   "source": [
    "df.set_index('Date', inplace=True)"
   ]
  },
  {
   "cell_type": "code",
   "execution_count": 48,
   "id": "af286d0d",
   "metadata": {},
   "outputs": [],
   "source": [
    "df.drop(['Observation', 'Year', 'Month', 'Day', 'Zonal Winds',\n",
    " 'Meridional Winds', 'Humidity', 'Air Temp'], axis=1, inplace=True)"
   ]
  },
  {
   "cell_type": "code",
   "execution_count": 20,
   "id": "0a36fa00",
   "metadata": {},
   "outputs": [
    {
     "name": "stdout",
     "output_type": "stream",
     "text": [
      "            Latitude  Longitude  Sea Surface Temp\n",
      "Date                                             \n",
      "1980-03-07     -0.02    -109.46             26.24\n",
      "1980-03-08     -0.02    -109.46             25.97\n",
      "1980-03-09     -0.02    -109.46             25.28\n",
      "1980-03-10     -0.02    -109.46             24.31\n",
      "1980-03-11     -0.02    -109.46             23.19\n"
     ]
    }
   ],
   "source": [
    "print(df.head())"
   ]
  },
  {
   "cell_type": "code",
   "execution_count": 21,
   "id": "4e425636",
   "metadata": {},
   "outputs": [
    {
     "name": "stdout",
     "output_type": "stream",
     "text": [
      "<class 'pandas.core.frame.DataFrame'>\n",
      "DatetimeIndex: 178080 entries, 1980-03-07 to 1998-06-15\n",
      "Data columns (total 3 columns):\n",
      " #   Column            Non-Null Count   Dtype  \n",
      "---  ------            --------------   -----  \n",
      " 0   Latitude          178080 non-null  float64\n",
      " 1   Longitude         178080 non-null  float64\n",
      " 2   Sea Surface Temp  161073 non-null  float64\n",
      "dtypes: float64(3)\n",
      "memory usage: 5.4 MB\n",
      "None\n"
     ]
    }
   ],
   "source": [
    "print(df.info())"
   ]
  },
  {
   "cell_type": "code",
   "execution_count": 22,
   "id": "505427de",
   "metadata": {},
   "outputs": [
    {
     "name": "stdout",
     "output_type": "stream",
     "text": [
      "count    178080.000000\n",
      "min          -8.810000\n",
      "mean          0.473626\n",
      "max           9.050000\n",
      "Name: Latitude, dtype: float64\n",
      "count    178080.000000\n",
      "min        -180.000000\n",
      "mean        -54.025233\n",
      "max         171.080000\n",
      "Name: Longitude, dtype: float64\n"
     ]
    }
   ],
   "source": [
    "print(df['Latitude'].agg(['count', 'min', 'mean','max']))\n",
    "print(df['Longitude'].agg(['count', 'min', 'mean','max']))"
   ]
  },
  {
   "cell_type": "code",
   "execution_count": 49,
   "id": "7a776dd4",
   "metadata": {},
   "outputs": [],
   "source": [
    "# Filter Niño 3 and 3.4 region\n",
    "df_nino34 = df[\n",
    "    (df['Latitude'] >= -5) & (df['Latitude'] <= 5) &\n",
    "    (df['Longitude'] >= -170) & (df['Longitude'] <= -120)\n",
    "]\n",
    "\n",
    "df_nino3 = df[\n",
    "    (df['Latitude'] >= -5) & (df['Latitude'] <= 5) &\n",
    "    (df['Longitude'] >= -150) & (df['Longitude'] <= -90)\n",
    "]"
   ]
  },
  {
   "cell_type": "code",
   "execution_count": 50,
   "id": "cfd63293",
   "metadata": {},
   "outputs": [],
   "source": [
    "# Group and aggregate\n",
    "df_nino34 = df_nino34.groupby(df_nino34.index)['Sea Surface Temp'].mean().to_frame(name='nino34')\n",
    "df_nino3 = df_nino3.groupby(df_nino3.index)['Sea Surface Temp'].mean().to_frame(name='nino3')"
   ]
  },
  {
   "cell_type": "code",
   "execution_count": 25,
   "id": "7545b3b1",
   "metadata": {},
   "outputs": [],
   "source": [
    "# 3. Sort by datetime and handle missing\n",
    "df_nino34 = df_nino34.sort_index().interpolate().ffill().bfill()\n",
    "df_nino3 = df_nino3.sort_index().interpolate().ffill().bfill()"
   ]
  },
  {
   "cell_type": "code",
   "execution_count": 26,
   "id": "44b4df9f",
   "metadata": {},
   "outputs": [
    {
     "name": "stdout",
     "output_type": "stream",
     "text": [
      "5369 6368\n"
     ]
    }
   ],
   "source": [
    "print(len(df_nino34), len(df_nino3))"
   ]
  },
  {
   "cell_type": "code",
   "execution_count": 34,
   "id": "600122c7",
   "metadata": {},
   "outputs": [],
   "source": [
    "df_nino = pd.merge(df_nino3, df_nino34, how='outer', left_index=True, right_index=True)"
   ]
  },
  {
   "cell_type": "code",
   "execution_count": 35,
   "id": "01d56e38",
   "metadata": {},
   "outputs": [],
   "source": [
    "# df_nino['nino3'] = df_nino['nino3'].ffill()\n",
    "# df_nino['nino34'] = df_nino['nino34'].ffill().bfill()"
   ]
  },
  {
   "cell_type": "code",
   "execution_count": 36,
   "id": "443412eb",
   "metadata": {},
   "outputs": [],
   "source": [
    "df_nino = round(df_nino, 2)"
   ]
  },
  {
   "cell_type": "code",
   "execution_count": 37,
   "id": "293b8401",
   "metadata": {},
   "outputs": [
    {
     "data": {
      "text/html": [
       "<div>\n",
       "<style scoped>\n",
       "    .dataframe tbody tr th:only-of-type {\n",
       "        vertical-align: middle;\n",
       "    }\n",
       "\n",
       "    .dataframe tbody tr th {\n",
       "        vertical-align: top;\n",
       "    }\n",
       "\n",
       "    .dataframe thead th {\n",
       "        text-align: right;\n",
       "    }\n",
       "</style>\n",
       "<table border=\"1\" class=\"dataframe\">\n",
       "  <thead>\n",
       "    <tr style=\"text-align: right;\">\n",
       "      <th></th>\n",
       "      <th>nino3</th>\n",
       "      <th>nino34</th>\n",
       "    </tr>\n",
       "    <tr>\n",
       "      <th>Date</th>\n",
       "      <th></th>\n",
       "      <th></th>\n",
       "    </tr>\n",
       "  </thead>\n",
       "  <tbody>\n",
       "    <tr>\n",
       "      <th>1980-03-07</th>\n",
       "      <td>26.24</td>\n",
       "      <td>NaN</td>\n",
       "    </tr>\n",
       "    <tr>\n",
       "      <th>1980-03-08</th>\n",
       "      <td>25.97</td>\n",
       "      <td>NaN</td>\n",
       "    </tr>\n",
       "    <tr>\n",
       "      <th>1980-03-09</th>\n",
       "      <td>25.28</td>\n",
       "      <td>NaN</td>\n",
       "    </tr>\n",
       "    <tr>\n",
       "      <th>1980-03-10</th>\n",
       "      <td>24.31</td>\n",
       "      <td>NaN</td>\n",
       "    </tr>\n",
       "    <tr>\n",
       "      <th>1980-03-11</th>\n",
       "      <td>23.19</td>\n",
       "      <td>NaN</td>\n",
       "    </tr>\n",
       "    <tr>\n",
       "      <th>...</th>\n",
       "      <td>...</td>\n",
       "      <td>...</td>\n",
       "    </tr>\n",
       "    <tr>\n",
       "      <th>1998-06-18</th>\n",
       "      <td>25.93</td>\n",
       "      <td>27.18</td>\n",
       "    </tr>\n",
       "    <tr>\n",
       "      <th>1998-06-19</th>\n",
       "      <td>25.91</td>\n",
       "      <td>27.11</td>\n",
       "    </tr>\n",
       "    <tr>\n",
       "      <th>1998-06-20</th>\n",
       "      <td>27.40</td>\n",
       "      <td>28.43</td>\n",
       "    </tr>\n",
       "    <tr>\n",
       "      <th>1998-06-21</th>\n",
       "      <td>NaN</td>\n",
       "      <td>28.51</td>\n",
       "    </tr>\n",
       "    <tr>\n",
       "      <th>1998-06-22</th>\n",
       "      <td>NaN</td>\n",
       "      <td>29.48</td>\n",
       "    </tr>\n",
       "  </tbody>\n",
       "</table>\n",
       "<p>6370 rows × 2 columns</p>\n",
       "</div>"
      ],
      "text/plain": [
       "            nino3  nino34\n",
       "Date                     \n",
       "1980-03-07  26.24     NaN\n",
       "1980-03-08  25.97     NaN\n",
       "1980-03-09  25.28     NaN\n",
       "1980-03-10  24.31     NaN\n",
       "1980-03-11  23.19     NaN\n",
       "...           ...     ...\n",
       "1998-06-18  25.93   27.18\n",
       "1998-06-19  25.91   27.11\n",
       "1998-06-20  27.40   28.43\n",
       "1998-06-21    NaN   28.51\n",
       "1998-06-22    NaN   29.48\n",
       "\n",
       "[6370 rows x 2 columns]"
      ]
     },
     "execution_count": 37,
     "metadata": {},
     "output_type": "execute_result"
    }
   ],
   "source": [
    "df_nino"
   ]
  },
  {
   "cell_type": "code",
   "execution_count": 38,
   "id": "5a3c76f8",
   "metadata": {},
   "outputs": [
    {
     "name": "stdout",
     "output_type": "stream",
     "text": [
      "nino3        2\n",
      "nino34    1001\n",
      "dtype: int64\n"
     ]
    }
   ],
   "source": [
    "print(df_nino.isnull().sum())"
   ]
  },
  {
   "cell_type": "markdown",
   "id": "f2355d35",
   "metadata": {},
   "source": [
    "## Multi-Scale Temporal Lag Features\n",
    "\n",
    "**Industry Best Practice**: El Niño events develop over multiple timescales:\n",
    "- **1-3 months**: Initial warming signals\n",
    "- **3-6 months**: Development phase (most predictive)\n",
    "- **6-12 months**: Mature phase and persistence\n",
    "- **12+ months**: Inter-annual cyclical patterns\n",
    "\n",
    "These lags capture the **ocean-atmosphere coupling** that drives ENSO physics."
   ]
  },
  {
   "cell_type": "code",
   "execution_count": null,
   "id": "d0387216",
   "metadata": {},
   "outputs": [],
   "source": [
    "# ===== MULTI-SCALE TEMPORAL LAGS =====\n",
    "# Based on ENSO physics and industry standards\n",
    "\n",
    "# 1. SHORT-TERM LAGS (1-2 weeks) - Immediate precursors\n",
    "df_nino['nino34_lag_7d'] = df_nino['nino34'].shift(7)    # 1 week\n",
    "df_nino['nino34_lag_14d'] = df_nino['nino34'].shift(14)  # 2 weeks\n",
    "\n",
    "# 2. MEDIUM-TERM LAGS (1-3 months) - Development phase signals\n",
    "df_nino['nino34_lag_1m'] = df_nino['nino34'].shift(30)  # 1 months\n",
    "df_nino['nino34_lag_2m'] = df_nino['nino34'].shift(60)  # 2 months\n",
    "\n",
    "# 3. LONG-TERM LAGS (3-12 months) - Most predictive for El Niño\n",
    "df_nino['nino34_lag_3m'] = df_nino['nino34'].shift(90)  # 3 months\n",
    "df_nino['nino34_lag_6m'] = df_nino['nino34'].shift(180)  # 6 months\n",
    "df_nino['nino34_lag_9m'] = df_nino['nino34'].shift(270)  # 9 months\n",
    "df_nino['nino34_lag_12m'] = df_nino['nino34'].shift(365)  # 12 months (annual cycle)\n",
    "\n",
    "# 4. INTER-ANNUAL LAGS - Captures ENSO cyclical nature\n",
    "df_nino['nino34_lag_18m'] = df_nino['nino34'].shift(550)  # 18 months\n",
    "df_nino['nino34_lag_24m'] = df_nino['nino34'].shift(730)  # 24 months\n",
    "\n",
    "print(\"Multi-scale temporal lags created:\")\n",
    "lag_features = [col for col in df_nino.columns if 'lag' in col]\n",
    "print(f\"Total lag features: {len(lag_features)}\")\n",
    "for feature in sorted(lag_features):\n",
    "    days = feature.split('_')[-1]\n",
    "    print(f\"  {feature}: {days})\")\n",
    "\n",
    "# Check for any missing values introduced\n",
    "print(f\"\\nMissing values per lag feature:\")\n",
    "for feature in sorted(lag_features):\n",
    "    missing = df_nino[feature].isnull().sum()\n",
    "    print(f\"  {feature}: {missing} missing values\")"
   ]
  },
  {
   "cell_type": "code",
   "execution_count": 34,
   "id": "090ae668",
   "metadata": {},
   "outputs": [],
   "source": [
    "# 7-day, 30-day rolling stats\n",
    "df_nino['nino34_roll_mean_7'] = df_nino['nino34'].rolling(window=7).mean()\n",
    "df_nino['nino34_roll_std_7'] = df_nino['nino34'].rolling(window=7).std()\n",
    "\n",
    "df_nino['nino34_roll_mean_30'] = df_nino['nino34'].rolling(window=30).mean()\n",
    "df_nino['nino34_roll_std_30'] = df_nino['nino34'].rolling(window=30).std()"
   ]
  },
  {
   "cell_type": "code",
   "execution_count": 35,
   "id": "2d07e8ee",
   "metadata": {},
   "outputs": [],
   "source": [
    "# Change in SST compared to previous day\n",
    "df_nino['nino34_diff_1'] = df_nino['nino34'].diff(1)\n",
    "df_nino['nino34_diff_7'] = df_nino['nino34'].diff(7)"
   ]
  },
  {
   "cell_type": "code",
   "execution_count": 36,
   "id": "8712dec8",
   "metadata": {},
   "outputs": [],
   "source": [
    "# Extract temporal components\n",
    "df_nino['month'] = df_nino.index.month\n",
    "df_nino['day_of_week'] = df_nino.index.dayofweek\n",
    "df_nino['is_weekend'] = df_nino.index.dayofweek >= 5"
   ]
  },
  {
   "cell_type": "code",
   "execution_count": 37,
   "id": "e29ff220",
   "metadata": {},
   "outputs": [],
   "source": [
    "def get_season(month):\n",
    "    if month in [12, 1, 2]:\n",
    "        return 'winter'\n",
    "    elif month in [3, 4, 5]:\n",
    "        return 'spring'\n",
    "    elif month in [6, 7, 8]:\n",
    "        return 'summer'\n",
    "    else:\n",
    "        return 'fall'\n",
    "\n",
    "df_nino['season'] = df_nino['month'].apply(get_season)"
   ]
  },
  {
   "cell_type": "code",
   "execution_count": 38,
   "id": "d40ec9a7",
   "metadata": {},
   "outputs": [],
   "source": [
    "# Placeholder logic: anomaly if nino 3.4 SST deviation from long-term mean > threshold\n",
    "long_term_mean = df_nino['nino34'].mean()\n",
    "long_term_std = df_nino['nino34'].std()\n",
    "\n",
    "df_nino['nino34_anomaly'] = df_nino['nino34'] - long_term_mean\n",
    "df_nino['is_elnino'] = (df_nino['nino34_anomaly'] > (1.5 * long_term_std)).astype(int)"
   ]
  },
  {
   "cell_type": "code",
   "execution_count": 39,
   "id": "99d61df8",
   "metadata": {},
   "outputs": [
    {
     "data": {
      "text/html": [
       "<div>\n",
       "<style scoped>\n",
       "    .dataframe tbody tr th:only-of-type {\n",
       "        vertical-align: middle;\n",
       "    }\n",
       "\n",
       "    .dataframe tbody tr th {\n",
       "        vertical-align: top;\n",
       "    }\n",
       "\n",
       "    .dataframe thead th {\n",
       "        text-align: right;\n",
       "    }\n",
       "</style>\n",
       "<table border=\"1\" class=\"dataframe\">\n",
       "  <thead>\n",
       "    <tr style=\"text-align: right;\">\n",
       "      <th></th>\n",
       "      <th>nino3</th>\n",
       "      <th>nino34</th>\n",
       "      <th>nino34_lag_1</th>\n",
       "      <th>nino34_lag_7</th>\n",
       "      <th>nino34_lag_30</th>\n",
       "      <th>nino34_roll_mean_7</th>\n",
       "      <th>nino34_roll_std_7</th>\n",
       "      <th>nino34_roll_mean_30</th>\n",
       "      <th>nino34_roll_std_30</th>\n",
       "      <th>nino34_diff_1</th>\n",
       "      <th>nino34_diff_7</th>\n",
       "      <th>month</th>\n",
       "      <th>day_of_week</th>\n",
       "      <th>is_weekend</th>\n",
       "      <th>season</th>\n",
       "      <th>nino34_anomaly</th>\n",
       "      <th>is_elnino</th>\n",
       "    </tr>\n",
       "    <tr>\n",
       "      <th>Date</th>\n",
       "      <th></th>\n",
       "      <th></th>\n",
       "      <th></th>\n",
       "      <th></th>\n",
       "      <th></th>\n",
       "      <th></th>\n",
       "      <th></th>\n",
       "      <th></th>\n",
       "      <th></th>\n",
       "      <th></th>\n",
       "      <th></th>\n",
       "      <th></th>\n",
       "      <th></th>\n",
       "      <th></th>\n",
       "      <th></th>\n",
       "      <th></th>\n",
       "      <th></th>\n",
       "    </tr>\n",
       "  </thead>\n",
       "  <tbody>\n",
       "    <tr>\n",
       "      <th>1980-03-07</th>\n",
       "      <td>26.24</td>\n",
       "      <td>29.15</td>\n",
       "      <td>NaN</td>\n",
       "      <td>NaN</td>\n",
       "      <td>NaN</td>\n",
       "      <td>NaN</td>\n",
       "      <td>NaN</td>\n",
       "      <td>NaN</td>\n",
       "      <td>NaN</td>\n",
       "      <td>NaN</td>\n",
       "      <td>NaN</td>\n",
       "      <td>3</td>\n",
       "      <td>4</td>\n",
       "      <td>False</td>\n",
       "      <td>spring</td>\n",
       "      <td>2.268369</td>\n",
       "      <td>0</td>\n",
       "    </tr>\n",
       "    <tr>\n",
       "      <th>1980-03-08</th>\n",
       "      <td>25.97</td>\n",
       "      <td>29.15</td>\n",
       "      <td>29.15</td>\n",
       "      <td>NaN</td>\n",
       "      <td>NaN</td>\n",
       "      <td>NaN</td>\n",
       "      <td>NaN</td>\n",
       "      <td>NaN</td>\n",
       "      <td>NaN</td>\n",
       "      <td>0.00</td>\n",
       "      <td>NaN</td>\n",
       "      <td>3</td>\n",
       "      <td>5</td>\n",
       "      <td>True</td>\n",
       "      <td>spring</td>\n",
       "      <td>2.268369</td>\n",
       "      <td>0</td>\n",
       "    </tr>\n",
       "    <tr>\n",
       "      <th>1980-03-09</th>\n",
       "      <td>25.28</td>\n",
       "      <td>29.15</td>\n",
       "      <td>29.15</td>\n",
       "      <td>NaN</td>\n",
       "      <td>NaN</td>\n",
       "      <td>NaN</td>\n",
       "      <td>NaN</td>\n",
       "      <td>NaN</td>\n",
       "      <td>NaN</td>\n",
       "      <td>0.00</td>\n",
       "      <td>NaN</td>\n",
       "      <td>3</td>\n",
       "      <td>6</td>\n",
       "      <td>True</td>\n",
       "      <td>spring</td>\n",
       "      <td>2.268369</td>\n",
       "      <td>0</td>\n",
       "    </tr>\n",
       "    <tr>\n",
       "      <th>1980-03-10</th>\n",
       "      <td>24.31</td>\n",
       "      <td>29.15</td>\n",
       "      <td>29.15</td>\n",
       "      <td>NaN</td>\n",
       "      <td>NaN</td>\n",
       "      <td>NaN</td>\n",
       "      <td>NaN</td>\n",
       "      <td>NaN</td>\n",
       "      <td>NaN</td>\n",
       "      <td>0.00</td>\n",
       "      <td>NaN</td>\n",
       "      <td>3</td>\n",
       "      <td>0</td>\n",
       "      <td>False</td>\n",
       "      <td>spring</td>\n",
       "      <td>2.268369</td>\n",
       "      <td>0</td>\n",
       "    </tr>\n",
       "    <tr>\n",
       "      <th>1980-03-11</th>\n",
       "      <td>23.19</td>\n",
       "      <td>29.15</td>\n",
       "      <td>29.15</td>\n",
       "      <td>NaN</td>\n",
       "      <td>NaN</td>\n",
       "      <td>NaN</td>\n",
       "      <td>NaN</td>\n",
       "      <td>NaN</td>\n",
       "      <td>NaN</td>\n",
       "      <td>0.00</td>\n",
       "      <td>NaN</td>\n",
       "      <td>3</td>\n",
       "      <td>1</td>\n",
       "      <td>False</td>\n",
       "      <td>spring</td>\n",
       "      <td>2.268369</td>\n",
       "      <td>0</td>\n",
       "    </tr>\n",
       "    <tr>\n",
       "      <th>...</th>\n",
       "      <td>...</td>\n",
       "      <td>...</td>\n",
       "      <td>...</td>\n",
       "      <td>...</td>\n",
       "      <td>...</td>\n",
       "      <td>...</td>\n",
       "      <td>...</td>\n",
       "      <td>...</td>\n",
       "      <td>...</td>\n",
       "      <td>...</td>\n",
       "      <td>...</td>\n",
       "      <td>...</td>\n",
       "      <td>...</td>\n",
       "      <td>...</td>\n",
       "      <td>...</td>\n",
       "      <td>...</td>\n",
       "      <td>...</td>\n",
       "    </tr>\n",
       "    <tr>\n",
       "      <th>1998-06-18</th>\n",
       "      <td>25.93</td>\n",
       "      <td>27.18</td>\n",
       "      <td>27.47</td>\n",
       "      <td>26.67</td>\n",
       "      <td>28.31</td>\n",
       "      <td>27.187143</td>\n",
       "      <td>0.273966</td>\n",
       "      <td>27.295000</td>\n",
       "      <td>0.492396</td>\n",
       "      <td>-0.29</td>\n",
       "      <td>0.51</td>\n",
       "      <td>6</td>\n",
       "      <td>3</td>\n",
       "      <td>False</td>\n",
       "      <td>summer</td>\n",
       "      <td>0.298369</td>\n",
       "      <td>0</td>\n",
       "    </tr>\n",
       "    <tr>\n",
       "      <th>1998-06-19</th>\n",
       "      <td>25.91</td>\n",
       "      <td>27.11</td>\n",
       "      <td>27.18</td>\n",
       "      <td>26.69</td>\n",
       "      <td>28.24</td>\n",
       "      <td>27.247143</td>\n",
       "      <td>0.175092</td>\n",
       "      <td>27.257333</td>\n",
       "      <td>0.459752</td>\n",
       "      <td>-0.07</td>\n",
       "      <td>0.42</td>\n",
       "      <td>6</td>\n",
       "      <td>4</td>\n",
       "      <td>False</td>\n",
       "      <td>summer</td>\n",
       "      <td>0.228369</td>\n",
       "      <td>0</td>\n",
       "    </tr>\n",
       "    <tr>\n",
       "      <th>1998-06-20</th>\n",
       "      <td>27.40</td>\n",
       "      <td>28.43</td>\n",
       "      <td>27.11</td>\n",
       "      <td>27.00</td>\n",
       "      <td>28.08</td>\n",
       "      <td>27.451429</td>\n",
       "      <td>0.452748</td>\n",
       "      <td>27.269000</td>\n",
       "      <td>0.485090</td>\n",
       "      <td>1.32</td>\n",
       "      <td>1.43</td>\n",
       "      <td>6</td>\n",
       "      <td>5</td>\n",
       "      <td>True</td>\n",
       "      <td>summer</td>\n",
       "      <td>1.548369</td>\n",
       "      <td>0</td>\n",
       "    </tr>\n",
       "    <tr>\n",
       "      <th>1998-06-21</th>\n",
       "      <td>27.40</td>\n",
       "      <td>28.51</td>\n",
       "      <td>28.43</td>\n",
       "      <td>27.26</td>\n",
       "      <td>28.12</td>\n",
       "      <td>27.630000</td>\n",
       "      <td>0.590282</td>\n",
       "      <td>27.282000</td>\n",
       "      <td>0.513100</td>\n",
       "      <td>0.08</td>\n",
       "      <td>1.25</td>\n",
       "      <td>6</td>\n",
       "      <td>6</td>\n",
       "      <td>True</td>\n",
       "      <td>summer</td>\n",
       "      <td>1.628369</td>\n",
       "      <td>0</td>\n",
       "    </tr>\n",
       "    <tr>\n",
       "      <th>1998-06-22</th>\n",
       "      <td>27.40</td>\n",
       "      <td>29.48</td>\n",
       "      <td>28.51</td>\n",
       "      <td>27.24</td>\n",
       "      <td>27.81</td>\n",
       "      <td>27.950000</td>\n",
       "      <td>0.879792</td>\n",
       "      <td>27.337667</td>\n",
       "      <td>0.645791</td>\n",
       "      <td>0.97</td>\n",
       "      <td>2.24</td>\n",
       "      <td>6</td>\n",
       "      <td>0</td>\n",
       "      <td>False</td>\n",
       "      <td>summer</td>\n",
       "      <td>2.598369</td>\n",
       "      <td>0</td>\n",
       "    </tr>\n",
       "  </tbody>\n",
       "</table>\n",
       "<p>6370 rows × 17 columns</p>\n",
       "</div>"
      ],
      "text/plain": [
       "            nino3  nino34  nino34_lag_1  nino34_lag_7  nino34_lag_30  \\\n",
       "Date                                                                   \n",
       "1980-03-07  26.24   29.15           NaN           NaN            NaN   \n",
       "1980-03-08  25.97   29.15         29.15           NaN            NaN   \n",
       "1980-03-09  25.28   29.15         29.15           NaN            NaN   \n",
       "1980-03-10  24.31   29.15         29.15           NaN            NaN   \n",
       "1980-03-11  23.19   29.15         29.15           NaN            NaN   \n",
       "...           ...     ...           ...           ...            ...   \n",
       "1998-06-18  25.93   27.18         27.47         26.67          28.31   \n",
       "1998-06-19  25.91   27.11         27.18         26.69          28.24   \n",
       "1998-06-20  27.40   28.43         27.11         27.00          28.08   \n",
       "1998-06-21  27.40   28.51         28.43         27.26          28.12   \n",
       "1998-06-22  27.40   29.48         28.51         27.24          27.81   \n",
       "\n",
       "            nino34_roll_mean_7  nino34_roll_std_7  nino34_roll_mean_30  \\\n",
       "Date                                                                     \n",
       "1980-03-07                 NaN                NaN                  NaN   \n",
       "1980-03-08                 NaN                NaN                  NaN   \n",
       "1980-03-09                 NaN                NaN                  NaN   \n",
       "1980-03-10                 NaN                NaN                  NaN   \n",
       "1980-03-11                 NaN                NaN                  NaN   \n",
       "...                        ...                ...                  ...   \n",
       "1998-06-18           27.187143           0.273966            27.295000   \n",
       "1998-06-19           27.247143           0.175092            27.257333   \n",
       "1998-06-20           27.451429           0.452748            27.269000   \n",
       "1998-06-21           27.630000           0.590282            27.282000   \n",
       "1998-06-22           27.950000           0.879792            27.337667   \n",
       "\n",
       "            nino34_roll_std_30  nino34_diff_1  nino34_diff_7  month  \\\n",
       "Date                                                                  \n",
       "1980-03-07                 NaN            NaN            NaN      3   \n",
       "1980-03-08                 NaN           0.00            NaN      3   \n",
       "1980-03-09                 NaN           0.00            NaN      3   \n",
       "1980-03-10                 NaN           0.00            NaN      3   \n",
       "1980-03-11                 NaN           0.00            NaN      3   \n",
       "...                        ...            ...            ...    ...   \n",
       "1998-06-18            0.492396          -0.29           0.51      6   \n",
       "1998-06-19            0.459752          -0.07           0.42      6   \n",
       "1998-06-20            0.485090           1.32           1.43      6   \n",
       "1998-06-21            0.513100           0.08           1.25      6   \n",
       "1998-06-22            0.645791           0.97           2.24      6   \n",
       "\n",
       "            day_of_week  is_weekend  season  nino34_anomaly  is_elnino  \n",
       "Date                                                                    \n",
       "1980-03-07            4       False  spring        2.268369          0  \n",
       "1980-03-08            5        True  spring        2.268369          0  \n",
       "1980-03-09            6        True  spring        2.268369          0  \n",
       "1980-03-10            0       False  spring        2.268369          0  \n",
       "1980-03-11            1       False  spring        2.268369          0  \n",
       "...                 ...         ...     ...             ...        ...  \n",
       "1998-06-18            3       False  summer        0.298369          0  \n",
       "1998-06-19            4       False  summer        0.228369          0  \n",
       "1998-06-20            5        True  summer        1.548369          0  \n",
       "1998-06-21            6        True  summer        1.628369          0  \n",
       "1998-06-22            0       False  summer        2.598369          0  \n",
       "\n",
       "[6370 rows x 17 columns]"
      ]
     },
     "execution_count": 39,
     "metadata": {},
     "output_type": "execute_result"
    }
   ],
   "source": [
    "df_nino"
   ]
  },
  {
   "cell_type": "code",
   "execution_count": 51,
   "id": "978c15b9",
   "metadata": {},
   "outputs": [
    {
     "data": {
      "image/png": "[encoded data removed]",
      "text/plain": [
       "<Figure size 1400x600 with 1 Axes>"
      ]
     },
     "metadata": {},
     "output_type": "display_data"
    }
   ],
   "source": [
    "# Clean the data first - remove rows with NaN values for plotting\n",
    "df_plot = df_nino.dropna(subset=['nino34', 'is_elnino']).copy()\n",
    "\n",
    "# Create the plot\n",
    "plt.figure(figsize=(14, 6))\n",
    "\n",
    "# Plot El Niño events (red) and normal periods (blue) separately\n",
    "elnino_mask = df_plot['is_elnino'] == 1\n",
    "normal_mask = df_plot['is_elnino'] == 0\n",
    "\n",
    "plt.plot(df_plot[elnino_mask].index, df_plot[elnino_mask]['nino34'], \n",
    "         color='red', label='El Niño Events', linewidth=1)\n",
    "plt.plot(df_plot[normal_mask].index, df_plot[normal_mask]['nino34'], \n",
    "         color='blue', label='Normal Conditions', linewidth=1)\n",
    "\n",
    "plt.title('Niño 3.4 SST Anomalies Over Time')\n",
    "plt.ylabel('Temperature (°C)')\n",
    "plt.xlabel('Date')\n",
    "plt.axhline(0.5, color='red', linestyle='--', alpha=0.7, label='El Niño Threshold')\n",
    "plt.axhline(-0.5, color='blue', linestyle='--', alpha=0.7, label='La Niña Threshold')\n",
    "plt.legend()\n",
    "plt.grid(True, alpha=0.3)\n",
    "plt.tight_layout()\n",
    "plt.show()"
   ]
  }
 ],
 "metadata": {
  "kernelspec": {
   "display_name": ".venv",
   "language": "python",
   "name": "python3"
  },
  "language_info": {
   "codemirror_mode": {
    "name": "ipython",
    "version": 3
   },
   "file_extension": ".py",
   "mimetype": "text/x-python",
   "name": "python",
   "nbconvert_exporter": "python",
   "pygments_lexer": "ipython3",
   "version": "3.13.5"
  }
 },
 "nbformat": 4,
 "nbformat_minor": 5
}
