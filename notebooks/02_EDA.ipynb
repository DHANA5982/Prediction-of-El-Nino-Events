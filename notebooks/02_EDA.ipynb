{
 "cells": [
  {
   "cell_type": "markdown",
   "id": "ad28060d",
   "metadata": {},
   "source": [
    "# Temporal Lag Feature Engineering\n",
    "\n",
    "**What**: Use past SST values to predict current conditions\n",
    "**Why**: El Niño develops over 3-6 months, past values contain predictive signals\n",
    "**How**: Create 1-week, 1-month, 3-month, 6-month, 12-month lag features"
   ]
  },
  {
   "cell_type": "code",
   "execution_count": null,
   "id": "db699f45",
   "metadata": {},
   "outputs": [],
   "source": [
    "import numpy as np\n",
    "import pandas as pd\n",
    "import matplotlib.pyplot as plt\n",
    "import seaborn as sns"
   ]
  },
  {
   "cell_type": "code",
   "execution_count": null,
   "id": "660947c1",
   "metadata": {},
   "outputs": [],
   "source": [
    "# Load the CSV file we just created\n",
    "df = pd.read_csv(output_csv)\n",
    "df['date'] = pd.to_datetime(df['date'])\n",
    "df = df.set_index('date').sort_index()\n",
    "\n",
    "print(\"Original data shape:\", df.shape)\n",
    "print(\"\\nFirst few rows:\")\n",
    "print(df.head())"
   ]
  },
  {
   "cell_type": "code",
   "execution_count": null,
   "id": "4156ff09",
   "metadata": {},
   "outputs": [],
   "source": [
    "# === VISUALIZE TEMPORAL LAG FEATURES ===\n",
    "import matplotlib.pyplot as plt\n",
    "\n",
    "# Create subplot for current vs lag features\n",
    "fig, (ax1, ax2) = plt.subplots(2, 1, figsize=(14, 10))\n",
    "\n",
    "# Plot 1: Time series comparison\n",
    "df_plot = df.dropna()  # Remove rows with NaN for plotting\n",
    "\n",
    "ax1.plot(df_plot.index, df_plot['sst'], label='Current SST', color='black', linewidth=2)\n",
    "ax1.plot(df_plot.index, df_plot['sst_lag_3m'], label='3 months ago', color='red', alpha=0.7)\n",
    "ax1.plot(df_plot.index, df_plot['sst_lag_6m'], label='6 months ago', color='blue', alpha=0.7)\n",
    "ax1.plot(df_plot.index, df_plot['sst_lag_12m'], label='12 months ago', color='green', alpha=0.7)\n",
    "\n",
    "ax1.set_title('Niño 3.4 SST: Current vs Lag Features')\n",
    "ax1.set_ylabel('SST (°C)')\n",
    "ax1.legend()\n",
    "ax1.grid(True, alpha=0.3)\n",
    "\n",
    "# Plot 2: Correlation analysis\n",
    "correlations = []\n",
    "for col in lag_cols:\n",
    "    corr = df['sst'].corr(df[col])\n",
    "    correlations.append(corr)\n",
    "\n",
    "lag_names = ['1 week', '1 month', '3 months', '6 months', '12 months']\n",
    "ax2.bar(lag_names, correlations, color=['skyblue', 'lightgreen', 'orange', 'red', 'purple'])\n",
    "ax2.set_title('Predictive Power of Lag Features (Correlation with Current SST)')\n",
    "ax2.set_ylabel('Correlation')\n",
    "ax2.set_ylim(0, 1)\n",
    "\n",
    "# Add correlation values on bars\n",
    "for i, v in enumerate(correlations):\n",
    "    ax2.text(i, v + 0.01, f'{v:.3f}', ha='center', va='bottom')\n",
    "\n",
    "plt.tight_layout()\n",
    "plt.show()\n",
    "\n",
    "print(\"\\\\nCorrelation Summary:\")\n",
    "for i, col in enumerate(lag_cols):\n",
    "    print(f\"{lag_names[i]}: {correlations[i]:.3f}\")\n",
    "print(f\"\\\\nBest predictor: {lag_names[correlations.index(max(correlations))]}\")"
   ]
  }
 ],
 "metadata": {
  "kernelspec": {
   "display_name": ".venv",
   "language": "python",
   "name": "python3"
  },
  "language_info": {
   "codemirror_mode": {
    "name": "ipython",
    "version": 3
   },
   "file_extension": ".py",
   "mimetype": "text/x-python",
   "name": "python",
   "nbconvert_exporter": "python",
   "pygments_lexer": "ipython3",
   "version": "3.13.5"
  }
 },
 "nbformat": 4,
 "nbformat_minor": 5
}
